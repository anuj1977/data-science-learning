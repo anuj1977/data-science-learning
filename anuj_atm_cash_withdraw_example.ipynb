{
 "cells": [
  {
   "cell_type": "code",
   "execution_count": 1,
   "metadata": {},
   "outputs": [],
   "source": [
    "bal = 1000\n",
    "db_password = 'password@123'"
   ]
  },
  {
   "cell_type": "code",
   "execution_count": 2,
   "metadata": {},
   "outputs": [
    {
     "name": "stdout",
     "output_type": "stream",
     "text": [
      "Amt to withdraw: 500\n"
     ]
    }
   ],
   "source": [
    "amt = int(input('Amt to withdraw: '))"
   ]
  },
  {
   "cell_type": "code",
   "execution_count": 3,
   "metadata": {},
   "outputs": [
    {
     "name": "stdout",
     "output_type": "stream",
     "text": [
      "please enter your password22\n"
     ]
    }
   ],
   "source": [
    "password = input('please enter your password')"
   ]
  },
  {
   "cell_type": "code",
   "execution_count": 12,
   "metadata": {},
   "outputs": [
    {
     "name": "stdout",
     "output_type": "stream",
     "text": [
      "Your account bal: 500\n"
     ]
    }
   ],
   "source": [
    "if amt < bal and password == db_password:\n",
    "    bal = bal-amt\n",
    "    print(\"Your account bal: \"+str(bal))\n",
    "else:\n",
    "    print('Insufficient fund or invalid password') \n",
    "    "
   ]
  },
  {
   "cell_type": "code",
   "execution_count": 4,
   "metadata": {},
   "outputs": [
    {
     "ename": "SyntaxError",
     "evalue": "EOL while scanning string literal (<ipython-input-4-60bf6753b24e>, line 6)",
     "output_type": "error",
     "traceback": [
      "\u001b[1;36m  File \u001b[1;32m\"<ipython-input-4-60bf6753b24e>\"\u001b[1;36m, line \u001b[1;32m6\u001b[0m\n\u001b[1;33m    print('Insufficient fund\")\u001b[0m\n\u001b[1;37m                              ^\u001b[0m\n\u001b[1;31mSyntaxError\u001b[0m\u001b[1;31m:\u001b[0m EOL while scanning string literal\n"
     ]
    }
   ],
   "source": [
    "if password == db_password:\n",
    "    if amt < bal:\n",
    "        bal = bal-amt\n",
    "        print(\"Your account bal: \"+str(bal))\n",
    "    else:\n",
    "        print('Insufficient fund\")\n",
    "else:\n",
    "            \n",
    "    print(\"invalid password\")\n",
    "        \n",
    "        \n",
    "    "
   ]
  },
  {
   "cell_type": "code",
   "execution_count": null,
   "metadata": {},
   "outputs": [],
   "source": [
    "if password == db_password:\n",
    "    print(\"hhh\")\n",
    "    if :\n",
    "    else:\n"
   ]
  },
  {
   "cell_type": "markdown",
   "metadata": {},
   "source": [
    "### ATM CASH WITHDRAWL EXAMPLE"
   ]
  },
  {
   "cell_type": "code",
   "execution_count": 19,
   "metadata": {},
   "outputs": [],
   "source": [
    "##Bank Atm withdraw###\n",
    "bal_amt = 100\n",
    "pin_entry = 123\n",
    "withdraw = 0\n",
    "rem_bal = bal_amt-withdraw"
   ]
  },
  {
   "cell_type": "code",
   "execution_count": 20,
   "metadata": {},
   "outputs": [
    {
     "name": "stdout",
     "output_type": "stream",
     "text": [
      "Please enter your ATM Pin: 123\n",
      "Please select the amt you want to withdraw\n"
     ]
    }
   ],
   "source": [
    "password = int(input('Please enter your ATM Pin: '))\n",
    "if password == pin_entry:\n",
    "    print('Please select the amt you want to withdraw')\n",
    "else:\n",
    "    print('Pin is incorrect, please try again')    "
   ]
  },
  {
   "cell_type": "code",
   "execution_count": 22,
   "metadata": {},
   "outputs": [
    {
     "name": "stdout",
     "output_type": "stream",
     "text": [
      "Please enter the amount of money you would like to withdraw: $ 80\n",
      "Foreward Balance  $  20.0\n"
     ]
    }
   ],
   "source": [
    "withdraw=float(input(\"Please enter the amount of money you would like to withdraw: $ \"))\n",
    "if withdraw > 0 and withdraw < bal_amt:\n",
    "    rem_bal=bal_amt-withdraw\n",
    "    print(\"Foreward Balance  $ \",rem_bal)\n",
    "elif withdraw>bal_amt:\n",
    "    print('Insufficient fund, Your withdrawl amt exceeds the remaining bal')\n",
    "else:\n",
    "    print(\"Transaction Cancelled\") "
   ]
  },
  {
   "cell_type": "code",
   "execution_count": null,
   "metadata": {},
   "outputs": [],
   "source": []
  }
 ],
 "metadata": {
  "kernelspec": {
   "display_name": "Python 3",
   "language": "python",
   "name": "python3"
  }
 },
 "nbformat": 4,
 "nbformat_minor": 2
}
