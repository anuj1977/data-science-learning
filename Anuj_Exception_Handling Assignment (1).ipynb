{
 "cells": [
  {
   "cell_type": "markdown",
   "metadata": {},
   "source": [
    "## Exceptions Handling"
   ]
  },
  {
   "cell_type": "code",
   "execution_count": 3,
   "metadata": {},
   "outputs": [
    {
     "name": "stdout",
     "output_type": "stream",
     "text": [
      "Please enter number: 5\n"
     ]
    }
   ],
   "source": [
    "n = input(\"Please enter number: \")"
   ]
  },
  {
   "cell_type": "code",
   "execution_count": 4,
   "metadata": {},
   "outputs": [
    {
     "data": {
      "text/plain": [
       "str"
      ]
     },
     "execution_count": 4,
     "metadata": {},
     "output_type": "execute_result"
    }
   ],
   "source": [
    "type(n)"
   ]
  },
  {
   "cell_type": "code",
   "execution_count": 8,
   "metadata": {},
   "outputs": [],
   "source": [
    "int_n = int(n)"
   ]
  },
  {
   "cell_type": "code",
   "execution_count": 9,
   "metadata": {},
   "outputs": [
    {
     "name": "stdout",
     "output_type": "stream",
     "text": [
      "Please enter number: 5\n"
     ]
    }
   ],
   "source": [
    "n = input(\"Please enter number: \")"
   ]
  },
  {
   "cell_type": "code",
   "execution_count": null,
   "metadata": {},
   "outputs": [],
   "source": [
    "int_n = input(\"Please enter number: \")"
   ]
  },
  {
   "cell_type": "code",
   "execution_count": 1,
   "metadata": {},
   "outputs": [
    {
     "name": "stdout",
     "output_type": "stream",
     "text": [
      "please enter no.a\n",
      "Not a valid no. only int allowed\n",
      "please enter no.5\n",
      "This time you entered correct\n"
     ]
    }
   ],
   "source": [
    "while True:\n",
    "    try: \n",
    "        n = input(\"please enter no.\")\n",
    "        n = int(n)\n",
    "        break\n",
    "    except ValueError:\n",
    "        print(\"Not a valid no. only int allowed\")\n",
    "print(\"This time you entered correct\")"
   ]
  },
  {
   "cell_type": "code",
   "execution_count": 2,
   "metadata": {},
   "outputs": [
    {
     "name": "stdout",
     "output_type": "stream",
     "text": [
      "Please enter a number: 23.5\n"
     ]
    },
    {
     "ename": "ValueError",
     "evalue": "invalid literal for int() with base 10: '23.5'",
     "output_type": "error",
     "traceback": [
      "\u001b[1;31m---------------------------------------------------------------------------\u001b[0m",
      "\u001b[1;31mValueError\u001b[0m                                Traceback (most recent call last)",
      "\u001b[1;32m<ipython-input-2-13159023bf05>\u001b[0m in \u001b[0;36m<module>\u001b[1;34m()\u001b[0m\n\u001b[0;32m      1\u001b[0m \u001b[1;31m#without exception handling\u001b[0m\u001b[1;33m\u001b[0m\u001b[1;33m\u001b[0m\u001b[0m\n\u001b[1;32m----> 2\u001b[1;33m \u001b[0mn\u001b[0m \u001b[1;33m=\u001b[0m \u001b[0mint\u001b[0m\u001b[1;33m(\u001b[0m\u001b[0minput\u001b[0m\u001b[1;33m(\u001b[0m\u001b[1;34m\"Please enter a number: \"\u001b[0m\u001b[1;33m)\u001b[0m\u001b[1;33m)\u001b[0m\u001b[1;33m\u001b[0m\u001b[0m\n\u001b[0m\u001b[0;32m      3\u001b[0m \u001b[1;31m#Please enter a number: 23.5\u001b[0m\u001b[1;33m\u001b[0m\u001b[1;33m\u001b[0m\u001b[0m\n",
      "\u001b[1;31mValueError\u001b[0m: invalid literal for int() with base 10: '23.5'"
     ]
    }
   ],
   "source": [
    "#without exception handling\n",
    "n = int(input(\"Please enter a number: \"))\n",
    "#Please enter a number: 23.5"
   ]
  },
  {
   "cell_type": "code",
   "execution_count": 3,
   "metadata": {},
   "outputs": [],
   "source": [
    "bal_amt = 100\n",
    "pin_entry = 123\n",
    "withdraw = 0\n",
    "rem_bal = bal_amt-withdraw"
   ]
  },
  {
   "cell_type": "code",
   "execution_count": 3,
   "metadata": {},
   "outputs": [
    {
     "name": "stdout",
     "output_type": "stream",
     "text": [
      "Please enter your ATM Pin: 321\n",
      "Please enter your ATM Pin: 123\n",
      "Success: Pin Accepted\n"
     ]
    }
   ],
   "source": [
    "while True:\n",
    "    try:\n",
    "        password = int(input('Please enter your ATM Pin: '))\n",
    "        if password == pin_entry:\n",
    "               break\n",
    "    except ValueError:\n",
    "        print(\"Plese enter the amount to be withdrawn\")\n",
    "print(\"Success: Pin Accepted\")"
   ]
  },
  {
   "cell_type": "code",
   "execution_count": 5,
   "metadata": {},
   "outputs": [
    {
     "name": "stdout",
     "output_type": "stream",
     "text": [
      "Please enter your ATM Pin: 123\n",
      "Welcome, Please select your option\n",
      "Success: Pin Accepted\n"
     ]
    }
   ],
   "source": [
    "### Example of bank atm pin entry\n",
    "pin_entry = 123 \n",
    "try:\n",
    "    password = int(input('Please enter your ATM Pin: '))\n",
    "except:\n",
    "    print ('You have entered an invalid value.')\n",
    "else:\n",
    "    if password != pin_entry:\n",
    "        print('You are not allowed to enter, you are too young.')\n",
    "    else:\n",
    "        print('Welcome, Please select your option')\n",
    "print(\"Success: Pin Accepted\")"
   ]
  },
  {
   "cell_type": "code",
   "execution_count": 4,
   "metadata": {},
   "outputs": [
    {
     "name": "stdout",
     "output_type": "stream",
     "text": [
      "Please enter your ATM Pin: 999\n",
      "Your Pin Entry is incorrect, Please try again.....\n",
      "****Bank of America****\n"
     ]
    }
   ],
   "source": [
    "### Example of bank atm pin entry, wrong entry\n",
    "pin_entry = 123 \n",
    "try:\n",
    "    password = int(input('Please enter your ATM Pin: '))\n",
    "except:\n",
    "    print ('You have entered an invalid value.')\n",
    "else:\n",
    "    if password != pin_entry:\n",
    "        print('Your Pin Entry is incorrect, Please try again.....')\n",
    "    else:\n",
    "        print('Welcome, Please select your option')\n",
    "print(\"****Bank of America****\")"
   ]
  },
  {
   "cell_type": "code",
   "execution_count": 1,
   "metadata": {},
   "outputs": [
    {
     "name": "stdout",
     "output_type": "stream",
     "text": [
      "Please enter the amount of money you would like to withdraw: $ 8\n",
      "Collect your cash\n",
      "TRANSACTION COMPLETED, Thank You for using ***Bank of America***\n"
     ]
    }
   ],
   "source": [
    "### Example of cash withdrawl transaction entry\n",
    "bal_amt = 100\n",
    "pin_entry = 123\n",
    "withdraw = 0\n",
    "rem_bal = bal_amt-withdraw\n",
    "while True:\n",
    "    try:\n",
    "        withdraw=float(input(\"Please enter the amount of money you would like to withdraw: $ \"))            \n",
    "    except:\n",
    "        print('Insufficient fund, Your withdrawl amt exceeds the remaining bal')\n",
    "    else:\n",
    "        if withdraw > 0 and withdraw < bal_amt:\n",
    "            print('Collect your cash')\n",
    "            break\n",
    "        else:\n",
    "            print('Insufficient fund, Your withdrawl amt exceeds the remaining bal')\n",
    "print('TRANSACTION COMPLETED, Thank You for using ***Bank of America***')\n",
    "       "
   ]
  },
  {
   "cell_type": "code",
   "execution_count": 1,
   "metadata": {},
   "outputs": [
    {
     "name": "stdout",
     "output_type": "stream",
     "text": [
      "Please enter the amount : $ 999\n",
      "Insufficient fund, Your withdrawl amt exceeds the remaining bal\n",
      "Please enter the amount : $ 99\n",
      "Collect your cash\n",
      "TRANSACTION COMPLETED, Thank You for using ***Bank of America***\n"
     ]
    }
   ],
   "source": [
    "### Example of cash withdrawl transaction entry\n",
    "bal_amt = 100\n",
    "pin_entry = 123\n",
    "withdraw = 0\n",
    "rem_bal = bal_amt-withdraw\n",
    "while True:\n",
    "    try:\n",
    "        withdraw=float(input(\"Please enter the amount : $ \"))            \n",
    "    except:\n",
    "        print('Insufficient fund, Your withdrawl amt exceeds the remaining bal')\n",
    "    else:\n",
    "        if withdraw > 0 and withdraw < bal_amt:\n",
    "            print('Collect your cash')\n",
    "            break\n",
    "        else:\n",
    "            print('Insufficient fund, Your withdrawl amt exceeds the remaining bal')\n",
    "print('TRANSACTION COMPLETED, Thank You for using ***Bank of America***')"
   ]
  },
  {
   "cell_type": "code",
   "execution_count": null,
   "metadata": {},
   "outputs": [],
   "source": [
    "### Example of cash withdrawl transaction entry\n",
    "bal_amt = 100\n",
    "pin_entry = 123\n",
    "withdraw = 0\n",
    "rem_bal = bal_amt-withdraw\n",
    "while True:\n",
    "    try:\n",
    "        withdraw=float(input(\"Please enter the amount : $ \"))            \n",
    "    except:\n",
    "        print('Insufficient fund, Your withdrawl amt exceeds the remaining bal')\n",
    "    else:\n",
    "        if withdraw > 0 and withdraw < bal_amt:\n",
    "            rem_bal=bal_amt-withdraw\n",
    "            print('Collect your cash')\n",
    "            break\n",
    "        else:\n",
    "            print('Insufficient fund, Your withdrawl amt exceeds the remaining bal')\n",
    "print('TRANSACTION COMPLETED, Thank You for using ***Bank of America***')\n"
   ]
  },
  {
   "cell_type": "code",
   "execution_count": 6,
   "metadata": {},
   "outputs": [
    {
     "name": "stdout",
     "output_type": "stream",
     "text": [
      "a: 100\n",
      "b: 50\n",
      "a/b = 2.0\n"
     ]
    }
   ],
   "source": [
    "a = input('a: ') #Example of converting string to int\n",
    "a = int(a)\n",
    "b = input('b: ')\n",
    "b = int(b)\n",
    "try:\n",
    "     print (\"a/b =\", a/b)\n",
    "except ZeroDivisionError:\n",
    "     print (\"division not possible\")        "
   ]
  },
  {
   "cell_type": "code",
   "execution_count": 7,
   "metadata": {},
   "outputs": [
    {
     "data": {
      "text/plain": [
       "int"
      ]
     },
     "execution_count": 7,
     "metadata": {},
     "output_type": "execute_result"
    }
   ],
   "source": [
    "type(a)"
   ]
  },
  {
   "cell_type": "code",
   "execution_count": 8,
   "metadata": {},
   "outputs": [
    {
     "name": "stdout",
     "output_type": "stream",
     "text": [
      "a: 5\n",
      "b: 0\n",
      "division not possible\n"
     ]
    }
   ],
   "source": [
    "a = input('a: ') #Example of converting string to int\n",
    "a = int(a)\n",
    "b = input('b: ')\n",
    "b = int(b)\n",
    "try:\n",
    "     print (\"a/b =\", a/b)\n",
    "except ZeroDivisionError:\n",
    "     print (\"division not possible\")  "
   ]
  },
  {
   "cell_type": "code",
   "execution_count": 15,
   "metadata": {},
   "outputs": [
    {
     "name": "stdout",
     "output_type": "stream",
     "text": [
      "Enter your age: 5\n",
      "age is odd\n"
     ]
    }
   ],
   "source": [
    "# defining age function for odd, even\n",
    "def studentAge(age):\n",
    "    if age < 0:\n",
    "        raise ValueError(\"Only positive integers are allowed\") \n",
    "    if age % 2 == 0:\n",
    "        print(\"age is even\")\n",
    "    else:\n",
    "        print(\"age is odd\")  \n",
    "try:\n",
    "    num = int(input(\"Enter your age: \"))\n",
    "    enterage(num) \n",
    "except ValueError:\n",
    "    print(\"Only positive integers are allowed\")\n",
    "except:\n",
    "    print(\"something is wrong\")"
   ]
  },
  {
   "cell_type": "code",
   "execution_count": null,
   "metadata": {},
   "outputs": [],
   "source": []
  }
 ],
 "metadata": {
  "kernelspec": {
   "display_name": "Python 3",
   "language": "python",
   "name": "python3"
  },
  "language_info": {
   "codemirror_mode": {
    "name": "ipython",
    "version": 3
   },
   "file_extension": ".py",
   "mimetype": "text/x-python",
   "name": "python",
   "nbconvert_exporter": "python",
   "pygments_lexer": "ipython3",
   "version": "3.6.4"
  }
 },
 "nbformat": 4,
 "nbformat_minor": 2
}
