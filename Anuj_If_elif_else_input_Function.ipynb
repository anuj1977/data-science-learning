{
 "cells": [
  {
   "cell_type": "markdown",
   "metadata": {},
   "source": [
    " ### if,elif, else Statements"
   ]
  },
  {
   "cell_type": "code",
   "execution_count": 61,
   "metadata": {},
   "outputs": [],
   "source": [
    "a = 45\n",
    "b = 25\n",
    "c = 50\n",
    "d = 500"
   ]
  },
  {
   "cell_type": "code",
   "execution_count": 63,
   "metadata": {},
   "outputs": [
    {
     "name": "stdout",
     "output_type": "stream",
     "text": [
      "a is lessthan to c\n"
     ]
    }
   ],
   "source": [
    "if a > c:\n",
    "    print('a is greater than c')\n",
    "elif a < c:\n",
    "    print('a is lessthan to c')\n",
    "else:\n",
    "    print('record not found')\n",
    "    "
   ]
  },
  {
   "cell_type": "code",
   "execution_count": 88,
   "metadata": {},
   "outputs": [],
   "source": [
    "marks = 58"
   ]
  },
  {
   "cell_type": "code",
   "execution_count": 89,
   "metadata": {},
   "outputs": [
    {
     "name": "stdout",
     "output_type": "stream",
     "text": [
      "Student Failed, Student has to re-test\n"
     ]
    }
   ],
   "source": [
    "if marks >= 90:\n",
    "    print(\"Grade is A\")\n",
    "elif(marks >= 80):\n",
    "    print(\"Grade is B\")\n",
    "elif(marks >= 70):\n",
    "    print(\"Grade is C\")\n",
    "elif(marks >= 60):\n",
    "    print(\"Grade is D\")\n",
    "else:\n",
    "    print(\"Student Failed, Student has to re-test\")"
   ]
  },
  {
   "cell_type": "code",
   "execution_count": 25,
   "metadata": {},
   "outputs": [
    {
     "name": "stdout",
     "output_type": "stream",
     "text": [
      "x is less than:\n"
     ]
    }
   ],
   "source": [
    "if (x < 50):\n",
    "    print('x is greater than:')\n",
    "else:\n",
    "    print('x is less than:')\n",
    "    "
   ]
  },
  {
   "cell_type": "code",
   "execution_count": 48,
   "metadata": {},
   "outputs": [],
   "source": [
    "day = 8"
   ]
  },
  {
   "cell_type": "code",
   "execution_count": 49,
   "metadata": {},
   "outputs": [
    {
     "name": "stdout",
     "output_type": "stream",
     "text": [
      "No such day, type day value between 1 to 7\n"
     ]
    }
   ],
   "source": [
    "if(day==1):\n",
    "    print(\"Day is Monday\")\n",
    "elif(day==2):\n",
    "    print(\"Day is Tuesday\")\n",
    "elif(day==3):\n",
    "    print(\"Day is Wed\")\n",
    "elif(day==4):\n",
    "    print(\"Day is Thursday\")\n",
    "elif(day==5):\n",
    "    print(\"Day is Friday\")\n",
    "elif(day==6):\n",
    "    print(\"Day is Saturday, It's a holiday\")\n",
    "elif(day==7):\n",
    "    print(\"Day is Sunday, It's a holiday\")\n",
    "else:\n",
    "    print(\"No such day, type day value between 1 to 7\")"
   ]
  },
  {
   "cell_type": "markdown",
   "metadata": {},
   "source": [
    "### Input"
   ]
  },
  {
   "cell_type": "code",
   "execution_count": 94,
   "metadata": {},
   "outputs": [],
   "source": [
    "scores = 95"
   ]
  },
  {
   "cell_type": "code",
   "execution_count": 96,
   "metadata": {},
   "outputs": [
    {
     "name": "stdout",
     "output_type": "stream",
     "text": [
      "Show your score:25\n"
     ]
    }
   ],
   "source": [
    "scores = input(\"Show your score:\")"
   ]
  },
  {
   "cell_type": "code",
   "execution_count": 99,
   "metadata": {},
   "outputs": [],
   "source": [
    "grades = '2'"
   ]
  },
  {
   "cell_type": "code",
   "execution_count": 100,
   "metadata": {},
   "outputs": [
    {
     "name": "stdout",
     "output_type": "stream",
     "text": [
      "Please enter your grade:3\n"
     ]
    }
   ],
   "source": [
    "grades = input(\"Please enter your grade:\")"
   ]
  },
  {
   "cell_type": "code",
   "execution_count": 101,
   "metadata": {},
   "outputs": [],
   "source": [
    "grades = '2'"
   ]
  },
  {
   "cell_type": "code",
   "execution_count": 103,
   "metadata": {},
   "outputs": [
    {
     "name": "stdout",
     "output_type": "stream",
     "text": [
      "show your grade score: 2\n"
     ]
    }
   ],
   "source": [
    "grades = input(\"show your grade score: \")"
   ]
  },
  {
   "cell_type": "code",
   "execution_count": 104,
   "metadata": {},
   "outputs": [
    {
     "name": "stdout",
     "output_type": "stream",
     "text": [
      "show your grade score: 25\n"
     ]
    }
   ],
   "source": [
    "grades = float(input(\"show your grade score: \"))"
   ]
  },
  {
   "cell_type": "code",
   "execution_count": null,
   "metadata": {},
   "outputs": [],
   "source": [
    "money = float(input(\"Enter how much you would like to deposit\"))"
   ]
  },
  {
   "cell_type": "code",
   "execution_count": null,
   "metadata": {},
   "outputs": [],
   "source": [
    "grades = str(input(\"show your grade score: \"))"
   ]
  },
  {
   "cell_type": "code",
   "execution_count": null,
   "metadata": {},
   "outputs": [],
   "source": []
  }
 ],
 "metadata": {
  "kernelspec": {
   "display_name": "Python 3",
   "language": "python",
   "name": "python3"
  },
  "language_info": {
   "codemirror_mode": {
    "name": "ipython",
    "version": 3
   },
   "file_extension": ".py",
   "mimetype": "text/x-python",
   "name": "python",
   "nbconvert_exporter": "python",
   "pygments_lexer": "ipython3",
   "version": "3.6.4"
  }
 },
 "nbformat": 4,
 "nbformat_minor": 2
}
