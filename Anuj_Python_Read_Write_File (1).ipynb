{
 "cells": [
  {
   "cell_type": "markdown",
   "metadata": {},
   "source": [
    "## Files, Load, Open, List"
   ]
  },
  {
   "cell_type": "code",
   "execution_count": 36,
   "metadata": {},
   "outputs": [],
   "source": [
    "f2 = open(\"/Users/tewat/DataSciense/iris.data.txt\",\"r\") #opening a existing file         "
   ]
  },
  {
   "cell_type": "code",
   "execution_count": 32,
   "metadata": {},
   "outputs": [
    {
     "name": "stdout",
     "output_type": "stream",
     "text": [
      "5.1,3.5,1.4,0.2,Iris-setosa\n",
      "4.9,3.0,1.4,0.2,Iris-setosa\n",
      "4.7,3.2,1.3,0.2,Iris-setosa\n",
      "4.6,3.1,1.5,0.2,Iris-setosa\n",
      "5.0,3.6,1.4,0.2,Iris-setosa\n",
      "5.4,3.9,1.7,0.4,Iris-setosa\n",
      "4.6,3.4,1.4,0.3,Iris-setosa\n",
      "5.0,3.4,1.5,0.2,Iris-setosa\n",
      "4.4,2.9,1.4,0.2,Iris-setosa\n",
      "4.9,3.1,1.5,0.1,Iris-setosa\n",
      "5.4,3.7,1.5,0.2,Iris-setosa\n",
      "4.8,3.4,1.6,0.2,Iris-setosa\n",
      "4.8,3.0,1.4,0.1,Iris-setosa\n",
      "4.3,3.0,1.1,0.1,Iris-setosa\n",
      "5.8,4.0,1.2,0.2,Iris-setosa\n",
      "5.7,4.4,1.5,0.4,Iris-setosa\n",
      "5.4,3.9,1.3,0.4,Iris-setosa\n",
      "5.1,3.5,1.4,0.3,Iris-setosa\n",
      "5.7,3.8,1.7,0.3,Iris-setosa\n",
      "5.1,3.8,1.5,0.3,Iris-setosa\n",
      "5.4,3.4,1.7,0.2,Iris-setosa\n",
      "5.1,3.7,1.5,0.4,Iris-setosa\n",
      "4.6,3.6,1.0,0.2,Iris-setosa\n",
      "5.1,3.3,1.7,0.5,Iris-setosa\n",
      "4.8,3.4,1.9,0.2,Iris-setosa\n",
      "5.0,3.0,1.6,0.2,Iris-setosa\n",
      "5.0,3.4,1.6,0.4,Iris-setosa\n",
      "5.2,3.5,1.5,0.2,Iris-setosa\n",
      "5.2,3.4,1.4,0.2,Iris-setosa\n",
      "4.7,3.2,1.6,0.2,Iris-setosa\n",
      "4.8,3.1,1.6,0.2,Iris-setosa\n",
      "5.4,3.4,1.5,0.4,Iris-setosa\n",
      "5.2,4.1,1.5,0.1,Iris-setosa\n",
      "5.5,4.2,1.4,0.2,Iris-setosa\n",
      "4.9,3.1,1.5,0.1,Iris-setosa\n",
      "5.0,3.2,1.2,0.2,Iris-setosa\n",
      "5.5,3.5,1.3,0.2,Iris-setosa\n",
      "4.9,3.1,1.5,0.1,Iris-setosa\n",
      "4.4,3.0,1.3,0.2,Iris-setosa\n",
      "5.1,3.4,1.5,0.2,Iris-setosa\n",
      "5.0,3.5,1.3,0.3,Iris-setosa\n",
      "4.5,2.3,1.3,0.3,Iris-setosa\n",
      "4.4,3.2,1.3,0.2,Iris-setosa\n",
      "5.0,3.5,1.6,0.6,Iris-setosa\n",
      "5.1,3.8,1.9,0.4,Iris-setosa\n",
      "4.8,3.0,1.4,0.3,Iris-setosa\n",
      "5.1,3.8,1.6,0.2,Iris-setosa\n",
      "4.6,3.2,1.4,0.2,Iris-setosa\n",
      "5.3,3.7,1.5,0.2,Iris-setosa\n",
      "5.0,3.3,1.4,0.2,Iris-setosa\n",
      "7.0,3.2,4.7,1.4,Iris-versicolor\n",
      "6.4,3.2,4.5,1.5,Iris-versicolor\n",
      "6.9,3.1,4.9,1.5,Iris-versicolor\n",
      "5.5,2.3,4.0,1.3,Iris-versicolor\n",
      "6.5,2.8,4.6,1.5,Iris-versicolor\n",
      "5.7,2.8,4.5,1.3,Iris-versicolor\n",
      "6.3,3.3,4.7,1.6,Iris-versicolor\n",
      "4.9,2.4,3.3,1.0,Iris-versicolor\n",
      "6.6,2.9,4.6,1.3,Iris-versicolor\n",
      "5.2,2.7,3.9,1.4,Iris-versicolor\n",
      "5.0,2.0,3.5,1.0,Iris-versicolor\n",
      "5.9,3.0,4.2,1.5,Iris-versicolor\n",
      "6.0,2.2,4.0,1.0,Iris-versicolor\n",
      "6.1,2.9,4.7,1.4,Iris-versicolor\n",
      "5.6,2.9,3.6,1.3,Iris-versicolor\n",
      "6.7,3.1,4.4,1.4,Iris-versicolor\n",
      "5.6,3.0,4.5,1.5,Iris-versicolor\n",
      "5.8,2.7,4.1,1.0,Iris-versicolor\n",
      "6.2,2.2,4.5,1.5,Iris-versicolor\n",
      "5.6,2.5,3.9,1.1,Iris-versicolor\n",
      "5.9,3.2,4.8,1.8,Iris-versicolor\n",
      "6.1,2.8,4.0,1.3,Iris-versicolor\n",
      "6.3,2.5,4.9,1.5,Iris-versicolor\n",
      "6.1,2.8,4.7,1.2,Iris-versicolor\n",
      "6.4,2.9,4.3,1.3,Iris-versicolor\n",
      "6.6,3.0,4.4,1.4,Iris-versicolor\n",
      "6.8,2.8,4.8,1.4,Iris-versicolor\n",
      "6.7,3.0,5.0,1.7,Iris-versicolor\n",
      "6.0,2.9,4.5,1.5,Iris-versicolor\n",
      "5.7,2.6,3.5,1.0,Iris-versicolor\n",
      "5.5,2.4,3.8,1.1,Iris-versicolor\n",
      "5.5,2.4,3.7,1.0,Iris-versicolor\n",
      "5.8,2.7,3.9,1.2,Iris-versicolor\n",
      "6.0,2.7,5.1,1.6,Iris-versicolor\n",
      "5.4,3.0,4.5,1.5,Iris-versicolor\n",
      "6.0,3.4,4.5,1.6,Iris-versicolor\n",
      "6.7,3.1,4.7,1.5,Iris-versicolor\n",
      "6.3,2.3,4.4,1.3,Iris-versicolor\n",
      "5.6,3.0,4.1,1.3,Iris-versicolor\n",
      "5.5,2.5,4.0,1.3,Iris-versicolor\n",
      "5.5,2.6,4.4,1.2,Iris-versicolor\n",
      "6.1,3.0,4.6,1.4,Iris-versicolor\n",
      "5.8,2.6,4.0,1.2,Iris-versicolor\n",
      "5.0,2.3,3.3,1.0,Iris-versicolor\n",
      "5.6,2.7,4.2,1.3,Iris-versicolor\n",
      "5.7,3.0,4.2,1.2,Iris-versicolor\n",
      "5.7,2.9,4.2,1.3,Iris-versicolor\n",
      "6.2,2.9,4.3,1.3,Iris-versicolor\n",
      "5.1,2.5,3.0,1.1,Iris-versicolor\n",
      "5.7,2.8,4.1,1.3,Iris-versicolor\n",
      "6.3,3.3,6.0,2.5,Iris-virginica\n",
      "5.8,2.7,5.1,1.9,Iris-virginica\n",
      "7.1,3.0,5.9,2.1,Iris-virginica\n",
      "6.3,2.9,5.6,1.8,Iris-virginica\n",
      "6.5,3.0,5.8,2.2,Iris-virginica\n",
      "7.6,3.0,6.6,2.1,Iris-virginica\n",
      "4.9,2.5,4.5,1.7,Iris-virginica\n",
      "7.3,2.9,6.3,1.8,Iris-virginica\n",
      "6.7,2.5,5.8,1.8,Iris-virginica\n",
      "7.2,3.6,6.1,2.5,Iris-virginica\n",
      "6.5,3.2,5.1,2.0,Iris-virginica\n",
      "6.4,2.7,5.3,1.9,Iris-virginica\n",
      "6.8,3.0,5.5,2.1,Iris-virginica\n",
      "5.7,2.5,5.0,2.0,Iris-virginica\n",
      "5.8,2.8,5.1,2.4,Iris-virginica\n",
      "6.4,3.2,5.3,2.3,Iris-virginica\n",
      "6.5,3.0,5.5,1.8,Iris-virginica\n",
      "7.7,3.8,6.7,2.2,Iris-virginica\n",
      "7.7,2.6,6.9,2.3,Iris-virginica\n",
      "6.0,2.2,5.0,1.5,Iris-virginica\n",
      "6.9,3.2,5.7,2.3,Iris-virginica\n",
      "5.6,2.8,4.9,2.0,Iris-virginica\n",
      "7.7,2.8,6.7,2.0,Iris-virginica\n",
      "6.3,2.7,4.9,1.8,Iris-virginica\n",
      "6.7,3.3,5.7,2.1,Iris-virginica\n",
      "7.2,3.2,6.0,1.8,Iris-virginica\n",
      "6.2,2.8,4.8,1.8,Iris-virginica\n",
      "6.1,3.0,4.9,1.8,Iris-virginica\n",
      "6.4,2.8,5.6,2.1,Iris-virginica\n",
      "7.2,3.0,5.8,1.6,Iris-virginica\n",
      "7.4,2.8,6.1,1.9,Iris-virginica\n",
      "7.9,3.8,6.4,2.0,Iris-virginica\n",
      "6.4,2.8,5.6,2.2,Iris-virginica\n",
      "6.3,2.8,5.1,1.5,Iris-virginica\n",
      "6.1,2.6,5.6,1.4,Iris-virginica\n",
      "7.7,3.0,6.1,2.3,Iris-virginica\n",
      "6.3,3.4,5.6,2.4,Iris-virginica\n",
      "6.4,3.1,5.5,1.8,Iris-virginica\n",
      "6.0,3.0,4.8,1.8,Iris-virginica\n",
      "6.9,3.1,5.4,2.1,Iris-virginica\n",
      "6.7,3.1,5.6,2.4,Iris-virginica\n",
      "6.9,3.1,5.1,2.3,Iris-virginica\n",
      "5.8,2.7,5.1,1.9,Iris-virginica\n",
      "6.8,3.2,5.9,2.3,Iris-virginica\n",
      "6.7,3.3,5.7,2.5,Iris-virginica\n",
      "6.7,3.0,5.2,2.3,Iris-virginica\n",
      "6.3,2.5,5.0,1.9,Iris-virginica\n",
      "6.5,3.0,5.2,2.0,Iris-virginica\n",
      "6.2,3.4,5.4,2.3,Iris-virginica\n",
      "5.9,3.0,5.1,1.8,Iris-virginica\n",
      "\n",
      "\n"
     ]
    }
   ],
   "source": [
    "print(f2.read()) #reading the entire content"
   ]
  },
  {
   "cell_type": "code",
   "execution_count": 39,
   "metadata": {},
   "outputs": [
    {
     "name": "stdout",
     "output_type": "stream",
     "text": [
      "4.6,3.1,1.5,0.2,Iris-setosa\n",
      "\n",
      "5.0,3.6,1.4,0.2,Iris-setosa\n",
      "\n",
      "5.4,3.9,1.7,0.4,Iris-setosa\n",
      "\n"
     ]
    }
   ],
   "source": [
    "print(f2.readline()) # reading the line once at a time\n",
    "print(f2.readline())\n",
    "print(f2.readline())"
   ]
  },
  {
   "cell_type": "code",
   "execution_count": 40,
   "metadata": {},
   "outputs": [],
   "source": [
    "f2.close()"
   ]
  },
  {
   "cell_type": "code",
   "execution_count": 26,
   "metadata": {},
   "outputs": [],
   "source": [
    "f3 = open(\"/Users/tewat/DataSciense/Python_Learning.txt\",\"r\") #opening a existing file       "
   ]
  },
  {
   "cell_type": "code",
   "execution_count": 27,
   "metadata": {},
   "outputs": [
    {
     "name": "stdout",
     "output_type": "stream",
     "text": [
      "This is a line:10 I have just addedThis is a line:11 I have just added\n"
     ]
    }
   ],
   "source": [
    "print(f3.read())"
   ]
  },
  {
   "cell_type": "code",
   "execution_count": 28,
   "metadata": {},
   "outputs": [],
   "source": [
    "f3.close()"
   ]
  },
  {
   "cell_type": "code",
   "execution_count": 37,
   "metadata": {},
   "outputs": [
    {
     "data": {
      "text/plain": [
       "9"
      ]
     },
     "execution_count": 37,
     "metadata": {},
     "output_type": "execute_result"
    }
   ],
   "source": [
    "f = open('/Users/tewat/DataSciense/Python_Learning.txt',\"w\")\n",
    "f.write('my line 1')\n",
    "f.write('my line 2')"
   ]
  },
  {
   "cell_type": "code",
   "execution_count": 43,
   "metadata": {},
   "outputs": [],
   "source": [
    "f.close()"
   ]
  },
  {
   "cell_type": "code",
   "execution_count": 48,
   "metadata": {},
   "outputs": [],
   "source": [
    "f= open(\"guru99.txt\",\"w+\")"
   ]
  },
  {
   "cell_type": "code",
   "execution_count": 73,
   "metadata": {},
   "outputs": [
    {
     "name": "stdout",
     "output_type": "stream",
     "text": [
      "\n"
     ]
    }
   ],
   "source": [
    "print(f.read())"
   ]
  },
  {
   "cell_type": "code",
   "execution_count": 50,
   "metadata": {},
   "outputs": [],
   "source": [
    "for i in range(10):\n",
    "     f.write(\"This is line %d\\r\\n\" % (i+1))"
   ]
  },
  {
   "cell_type": "code",
   "execution_count": 68,
   "metadata": {},
   "outputs": [],
   "source": [
    "f = open(\"/Users/tewat/downloads/PythonFile.txt\",\"r\")"
   ]
  },
  {
   "cell_type": "code",
   "execution_count": 66,
   "metadata": {},
   "outputs": [
    {
     "data": {
      "text/plain": [
       "25"
      ]
     },
     "execution_count": 66,
     "metadata": {},
     "output_type": "execute_result"
    }
   ],
   "source": [
    "f = open('/Users/tewat/Downloads/PythonFile.txt',\"w+\")\n",
    "f.write('I have added the new line')"
   ]
  },
  {
   "cell_type": "code",
   "execution_count": 72,
   "metadata": {},
   "outputs": [
    {
     "name": "stdout",
     "output_type": "stream",
     "text": [
      "I have added the new line\n"
     ]
    }
   ],
   "source": [
    "f = open(\"/Users/tewat/downloads/PythonFile.txt\",\"r\")\n",
    "print(f.read())"
   ]
  },
  {
   "cell_type": "markdown",
   "metadata": {},
   "source": [
    "### Appending the file"
   ]
  },
  {
   "cell_type": "code",
   "execution_count": 90,
   "metadata": {},
   "outputs": [],
   "source": [
    "f = open('/Users/tewat/DataSciense/Python_Learning.txt',\"a+\")\n",
    "for i in range(1):\n",
    "    f.write('Append new line: %d/r/n' % (i+1))\n"
   ]
  },
  {
   "cell_type": "code",
   "execution_count": 91,
   "metadata": {},
   "outputs": [
    {
     "name": "stdout",
     "output_type": "stream",
     "text": [
      "my line 1my line 2Append new lineAppend new line: /n Append new line: Append new line: /r/nAppend new line: %d/r/nAppend new line: 1/r/nAppend new line: 2/r/n\n"
     ]
    }
   ],
   "source": [
    "f = open('/Users/tewat/DataSciense/Python_Learning.txt',\"r\")\n",
    "print(f.read())"
   ]
  },
  {
   "cell_type": "code",
   "execution_count": 92,
   "metadata": {},
   "outputs": [],
   "source": [
    "f.close()"
   ]
  },
  {
   "cell_type": "code",
   "execution_count": 96,
   "metadata": {},
   "outputs": [],
   "source": [
    "import os.path   #check that a file or directory exists. \n",
    "from os import path"
   ]
  },
  {
   "cell_type": "code",
   "execution_count": 98,
   "metadata": {},
   "outputs": [
    {
     "data": {
      "text/plain": [
       "False"
      ]
     },
     "execution_count": 98,
     "metadata": {},
     "output_type": "execute_result"
    }
   ],
   "source": [
    "path.exists('Python_Learning') #check that a file or directory exists. "
   ]
  },
  {
   "cell_type": "code",
   "execution_count": 112,
   "metadata": {},
   "outputs": [
    {
     "name": "stdout",
     "output_type": "stream",
     "text": [
      "I have added the new line\n",
      "I have added the new line Python\n",
      "I have added the new line Java\n",
      "\n"
     ]
    }
   ],
   "source": [
    "f = open('/Users/tewat/Downloads/PythonFile.txt',\"r\")\n",
    "print(f.read())\n"
   ]
  },
  {
   "cell_type": "code",
   "execution_count": 115,
   "metadata": {},
   "outputs": [
    {
     "name": "stdout",
     "output_type": "stream",
     "text": [
      "I have added the new line Java\n",
      "\n"
     ]
    }
   ],
   "source": [
    "f = open('/Users/tewat/Downloads/PythonFile.txt',\"r\")\n",
    "for line in f:\n",
    "    if 'Java' in line:\n",
    "        print(line)"
   ]
  },
  {
   "cell_type": "code",
   "execution_count": 116,
   "metadata": {},
   "outputs": [
    {
     "name": "stdout",
     "output_type": "stream",
     "text": [
      "I have added the new line Python\n",
      "\n"
     ]
    }
   ],
   "source": [
    "f = open('/Users/tewat/Downloads/PythonFile.txt',\"r\")\n",
    "for line in f:\n",
    "    if 'Python' in line:\n",
    "        print(line)"
   ]
  },
  {
   "cell_type": "code",
   "execution_count": 119,
   "metadata": {},
   "outputs": [],
   "source": [
    "f2 = open(\"/Users/tewat/DataSciense/iris.data.txt\",\"r\")"
   ]
  },
  {
   "cell_type": "code",
   "execution_count": 122,
   "metadata": {},
   "outputs": [
    {
     "name": "stdout",
     "output_type": "stream",
     "text": [
      "\n"
     ]
    }
   ],
   "source": [
    "print(f2.read())"
   ]
  },
  {
   "cell_type": "code",
   "execution_count": 125,
   "metadata": {},
   "outputs": [
    {
     "data": {
      "text/plain": [
       "['5.1,3.5,1.4,0.2,Iris-setosa\\n',\n",
       " '4.9,3.0,1.4,0.2,Iris-setosa\\n',\n",
       " '4.7,3.2,1.3,0.2,Iris-setosa\\n',\n",
       " '4.6,3.1,1.5,0.2,Iris-setosa\\n',\n",
       " '5.0,3.6,1.4,0.2,Iris-setosa\\n',\n",
       " '5.4,3.9,1.7,0.4,Iris-setosa\\n',\n",
       " '4.6,3.4,1.4,0.3,Iris-setosa\\n',\n",
       " '5.0,3.4,1.5,0.2,Iris-setosa\\n',\n",
       " '4.4,2.9,1.4,0.2,Iris-setosa\\n',\n",
       " '4.9,3.1,1.5,0.1,Iris-setosa\\n',\n",
       " '5.4,3.7,1.5,0.2,Iris-setosa\\n',\n",
       " '4.8,3.4,1.6,0.2,Iris-setosa\\n',\n",
       " '4.8,3.0,1.4,0.1,Iris-setosa\\n',\n",
       " '4.3,3.0,1.1,0.1,Iris-setosa\\n',\n",
       " '5.8,4.0,1.2,0.2,Iris-setosa\\n',\n",
       " '5.7,4.4,1.5,0.4,Iris-setosa\\n',\n",
       " '5.4,3.9,1.3,0.4,Iris-setosa\\n',\n",
       " '5.1,3.5,1.4,0.3,Iris-setosa\\n',\n",
       " '5.7,3.8,1.7,0.3,Iris-setosa\\n',\n",
       " '5.1,3.8,1.5,0.3,Iris-setosa\\n',\n",
       " '5.4,3.4,1.7,0.2,Iris-setosa\\n',\n",
       " '5.1,3.7,1.5,0.4,Iris-setosa\\n',\n",
       " '4.6,3.6,1.0,0.2,Iris-setosa\\n',\n",
       " '5.1,3.3,1.7,0.5,Iris-setosa\\n',\n",
       " '4.8,3.4,1.9,0.2,Iris-setosa\\n',\n",
       " '5.0,3.0,1.6,0.2,Iris-setosa\\n',\n",
       " '5.0,3.4,1.6,0.4,Iris-setosa\\n',\n",
       " '5.2,3.5,1.5,0.2,Iris-setosa\\n',\n",
       " '5.2,3.4,1.4,0.2,Iris-setosa\\n',\n",
       " '4.7,3.2,1.6,0.2,Iris-setosa\\n',\n",
       " '4.8,3.1,1.6,0.2,Iris-setosa\\n',\n",
       " '5.4,3.4,1.5,0.4,Iris-setosa\\n',\n",
       " '5.2,4.1,1.5,0.1,Iris-setosa\\n',\n",
       " '5.5,4.2,1.4,0.2,Iris-setosa\\n',\n",
       " '4.9,3.1,1.5,0.1,Iris-setosa\\n',\n",
       " '5.0,3.2,1.2,0.2,Iris-setosa\\n',\n",
       " '5.5,3.5,1.3,0.2,Iris-setosa\\n',\n",
       " '4.9,3.1,1.5,0.1,Iris-setosa\\n',\n",
       " '4.4,3.0,1.3,0.2,Iris-setosa\\n',\n",
       " '5.1,3.4,1.5,0.2,Iris-setosa\\n',\n",
       " '5.0,3.5,1.3,0.3,Iris-setosa\\n',\n",
       " '4.5,2.3,1.3,0.3,Iris-setosa\\n',\n",
       " '4.4,3.2,1.3,0.2,Iris-setosa\\n',\n",
       " '5.0,3.5,1.6,0.6,Iris-setosa\\n',\n",
       " '5.1,3.8,1.9,0.4,Iris-setosa\\n',\n",
       " '4.8,3.0,1.4,0.3,Iris-setosa\\n',\n",
       " '5.1,3.8,1.6,0.2,Iris-setosa\\n',\n",
       " '4.6,3.2,1.4,0.2,Iris-setosa\\n',\n",
       " '5.3,3.7,1.5,0.2,Iris-setosa\\n',\n",
       " '5.0,3.3,1.4,0.2,Iris-setosa\\n',\n",
       " '7.0,3.2,4.7,1.4,Iris-versicolor\\n',\n",
       " '6.4,3.2,4.5,1.5,Iris-versicolor\\n',\n",
       " '6.9,3.1,4.9,1.5,Iris-versicolor\\n',\n",
       " '5.5,2.3,4.0,1.3,Iris-versicolor\\n',\n",
       " '6.5,2.8,4.6,1.5,Iris-versicolor\\n',\n",
       " '5.7,2.8,4.5,1.3,Iris-versicolor\\n',\n",
       " '6.3,3.3,4.7,1.6,Iris-versicolor\\n',\n",
       " '4.9,2.4,3.3,1.0,Iris-versicolor\\n',\n",
       " '6.6,2.9,4.6,1.3,Iris-versicolor\\n',\n",
       " '5.2,2.7,3.9,1.4,Iris-versicolor\\n',\n",
       " '5.0,2.0,3.5,1.0,Iris-versicolor\\n',\n",
       " '5.9,3.0,4.2,1.5,Iris-versicolor\\n',\n",
       " '6.0,2.2,4.0,1.0,Iris-versicolor\\n',\n",
       " '6.1,2.9,4.7,1.4,Iris-versicolor\\n',\n",
       " '5.6,2.9,3.6,1.3,Iris-versicolor\\n',\n",
       " '6.7,3.1,4.4,1.4,Iris-versicolor\\n',\n",
       " '5.6,3.0,4.5,1.5,Iris-versicolor\\n',\n",
       " '5.8,2.7,4.1,1.0,Iris-versicolor\\n',\n",
       " '6.2,2.2,4.5,1.5,Iris-versicolor\\n',\n",
       " '5.6,2.5,3.9,1.1,Iris-versicolor\\n',\n",
       " '5.9,3.2,4.8,1.8,Iris-versicolor\\n',\n",
       " '6.1,2.8,4.0,1.3,Iris-versicolor\\n',\n",
       " '6.3,2.5,4.9,1.5,Iris-versicolor\\n',\n",
       " '6.1,2.8,4.7,1.2,Iris-versicolor\\n',\n",
       " '6.4,2.9,4.3,1.3,Iris-versicolor\\n',\n",
       " '6.6,3.0,4.4,1.4,Iris-versicolor\\n',\n",
       " '6.8,2.8,4.8,1.4,Iris-versicolor\\n',\n",
       " '6.7,3.0,5.0,1.7,Iris-versicolor\\n',\n",
       " '6.0,2.9,4.5,1.5,Iris-versicolor\\n',\n",
       " '5.7,2.6,3.5,1.0,Iris-versicolor\\n',\n",
       " '5.5,2.4,3.8,1.1,Iris-versicolor\\n',\n",
       " '5.5,2.4,3.7,1.0,Iris-versicolor\\n',\n",
       " '5.8,2.7,3.9,1.2,Iris-versicolor\\n',\n",
       " '6.0,2.7,5.1,1.6,Iris-versicolor\\n',\n",
       " '5.4,3.0,4.5,1.5,Iris-versicolor\\n',\n",
       " '6.0,3.4,4.5,1.6,Iris-versicolor\\n',\n",
       " '6.7,3.1,4.7,1.5,Iris-versicolor\\n',\n",
       " '6.3,2.3,4.4,1.3,Iris-versicolor\\n',\n",
       " '5.6,3.0,4.1,1.3,Iris-versicolor\\n',\n",
       " '5.5,2.5,4.0,1.3,Iris-versicolor\\n',\n",
       " '5.5,2.6,4.4,1.2,Iris-versicolor\\n',\n",
       " '6.1,3.0,4.6,1.4,Iris-versicolor\\n',\n",
       " '5.8,2.6,4.0,1.2,Iris-versicolor\\n',\n",
       " '5.0,2.3,3.3,1.0,Iris-versicolor\\n',\n",
       " '5.6,2.7,4.2,1.3,Iris-versicolor\\n',\n",
       " '5.7,3.0,4.2,1.2,Iris-versicolor\\n',\n",
       " '5.7,2.9,4.2,1.3,Iris-versicolor\\n',\n",
       " '6.2,2.9,4.3,1.3,Iris-versicolor\\n',\n",
       " '5.1,2.5,3.0,1.1,Iris-versicolor\\n',\n",
       " '5.7,2.8,4.1,1.3,Iris-versicolor\\n',\n",
       " '6.3,3.3,6.0,2.5,Iris-virginica\\n',\n",
       " '5.8,2.7,5.1,1.9,Iris-virginica\\n',\n",
       " '7.1,3.0,5.9,2.1,Iris-virginica\\n',\n",
       " '6.3,2.9,5.6,1.8,Iris-virginica\\n',\n",
       " '6.5,3.0,5.8,2.2,Iris-virginica\\n',\n",
       " '7.6,3.0,6.6,2.1,Iris-virginica\\n',\n",
       " '4.9,2.5,4.5,1.7,Iris-virginica\\n',\n",
       " '7.3,2.9,6.3,1.8,Iris-virginica\\n',\n",
       " '6.7,2.5,5.8,1.8,Iris-virginica\\n',\n",
       " '7.2,3.6,6.1,2.5,Iris-virginica\\n',\n",
       " '6.5,3.2,5.1,2.0,Iris-virginica\\n',\n",
       " '6.4,2.7,5.3,1.9,Iris-virginica\\n',\n",
       " '6.8,3.0,5.5,2.1,Iris-virginica\\n',\n",
       " '5.7,2.5,5.0,2.0,Iris-virginica\\n',\n",
       " '5.8,2.8,5.1,2.4,Iris-virginica\\n',\n",
       " '6.4,3.2,5.3,2.3,Iris-virginica\\n',\n",
       " '6.5,3.0,5.5,1.8,Iris-virginica\\n',\n",
       " '7.7,3.8,6.7,2.2,Iris-virginica\\n',\n",
       " '7.7,2.6,6.9,2.3,Iris-virginica\\n',\n",
       " '6.0,2.2,5.0,1.5,Iris-virginica\\n',\n",
       " '6.9,3.2,5.7,2.3,Iris-virginica\\n',\n",
       " '5.6,2.8,4.9,2.0,Iris-virginica\\n',\n",
       " '7.7,2.8,6.7,2.0,Iris-virginica\\n',\n",
       " '6.3,2.7,4.9,1.8,Iris-virginica\\n',\n",
       " '6.7,3.3,5.7,2.1,Iris-virginica\\n',\n",
       " '7.2,3.2,6.0,1.8,Iris-virginica\\n',\n",
       " '6.2,2.8,4.8,1.8,Iris-virginica\\n',\n",
       " '6.1,3.0,4.9,1.8,Iris-virginica\\n',\n",
       " '6.4,2.8,5.6,2.1,Iris-virginica\\n',\n",
       " '7.2,3.0,5.8,1.6,Iris-virginica\\n',\n",
       " '7.4,2.8,6.1,1.9,Iris-virginica\\n',\n",
       " '7.9,3.8,6.4,2.0,Iris-virginica\\n',\n",
       " '6.4,2.8,5.6,2.2,Iris-virginica\\n',\n",
       " '6.3,2.8,5.1,1.5,Iris-virginica\\n',\n",
       " '6.1,2.6,5.6,1.4,Iris-virginica\\n',\n",
       " '7.7,3.0,6.1,2.3,Iris-virginica\\n',\n",
       " '6.3,3.4,5.6,2.4,Iris-virginica\\n',\n",
       " '6.4,3.1,5.5,1.8,Iris-virginica\\n',\n",
       " '6.0,3.0,4.8,1.8,Iris-virginica\\n',\n",
       " '6.9,3.1,5.4,2.1,Iris-virginica\\n',\n",
       " '6.7,3.1,5.6,2.4,Iris-virginica\\n',\n",
       " '6.9,3.1,5.1,2.3,Iris-virginica\\n',\n",
       " '5.8,2.7,5.1,1.9,Iris-virginica\\n',\n",
       " '6.8,3.2,5.9,2.3,Iris-virginica\\n',\n",
       " '6.7,3.3,5.7,2.5,Iris-virginica\\n',\n",
       " '6.7,3.0,5.2,2.3,Iris-virginica\\n',\n",
       " '6.3,2.5,5.0,1.9,Iris-virginica\\n',\n",
       " '6.5,3.0,5.2,2.0,Iris-virginica\\n',\n",
       " '6.2,3.4,5.4,2.3,Iris-virginica\\n',\n",
       " '5.9,3.0,5.1,1.8,Iris-virginica\\n',\n",
       " '\\n']"
      ]
     },
     "execution_count": 125,
     "metadata": {},
     "output_type": "execute_result"
    }
   ],
   "source": [
    "f2 = open(\"/Users/tewat/DataSciense/iris.data.txt\",\"r\")\n",
    "f2.readlines()"
   ]
  },
  {
   "cell_type": "code",
   "execution_count": 132,
   "metadata": {},
   "outputs": [
    {
     "name": "stdout",
     "output_type": "stream",
     "text": [
      "5.1,3.5,1.4,0.2,Iris-setosa\n",
      "\n",
      "4.9,3.0,1.4,0.2,Iris-setosa\n",
      "\n",
      "4.7,3.2,1.3,0.2,Iris-setosa\n",
      "\n",
      "4.6,3.1,1.5,0.2,Iris-setosa\n",
      "\n",
      "5.0,3.6,1.4,0.2,Iris-setosa\n",
      "\n",
      "5.4,3.9,1.7,0.4,Iris-setosa\n",
      "\n",
      "4.6,3.4,1.4,0.3,Iris-setosa\n",
      "\n",
      "5.0,3.4,1.5,0.2,Iris-setosa\n",
      "\n",
      "4.4,2.9,1.4,0.2,Iris-setosa\n",
      "\n",
      "4.9,3.1,1.5,0.1,Iris-setosa\n",
      "\n",
      "5.4,3.7,1.5,0.2,Iris-setosa\n",
      "\n",
      "4.8,3.4,1.6,0.2,Iris-setosa\n",
      "\n",
      "4.8,3.0,1.4,0.1,Iris-setosa\n",
      "\n",
      "4.3,3.0,1.1,0.1,Iris-setosa\n",
      "\n",
      "5.8,4.0,1.2,0.2,Iris-setosa\n",
      "\n",
      "5.7,4.4,1.5,0.4,Iris-setosa\n",
      "\n",
      "5.4,3.9,1.3,0.4,Iris-setosa\n",
      "\n",
      "5.1,3.5,1.4,0.3,Iris-setosa\n",
      "\n",
      "5.7,3.8,1.7,0.3,Iris-setosa\n",
      "\n",
      "5.1,3.8,1.5,0.3,Iris-setosa\n",
      "\n",
      "5.4,3.4,1.7,0.2,Iris-setosa\n",
      "\n",
      "5.1,3.7,1.5,0.4,Iris-setosa\n",
      "\n",
      "4.6,3.6,1.0,0.2,Iris-setosa\n",
      "\n",
      "5.1,3.3,1.7,0.5,Iris-setosa\n",
      "\n",
      "4.8,3.4,1.9,0.2,Iris-setosa\n",
      "\n",
      "5.0,3.0,1.6,0.2,Iris-setosa\n",
      "\n",
      "5.0,3.4,1.6,0.4,Iris-setosa\n",
      "\n",
      "5.2,3.5,1.5,0.2,Iris-setosa\n",
      "\n",
      "5.2,3.4,1.4,0.2,Iris-setosa\n",
      "\n",
      "4.7,3.2,1.6,0.2,Iris-setosa\n",
      "\n",
      "4.8,3.1,1.6,0.2,Iris-setosa\n",
      "\n",
      "5.4,3.4,1.5,0.4,Iris-setosa\n",
      "\n",
      "5.2,4.1,1.5,0.1,Iris-setosa\n",
      "\n",
      "5.5,4.2,1.4,0.2,Iris-setosa\n",
      "\n",
      "4.9,3.1,1.5,0.1,Iris-setosa\n",
      "\n",
      "5.0,3.2,1.2,0.2,Iris-setosa\n",
      "\n",
      "5.5,3.5,1.3,0.2,Iris-setosa\n",
      "\n",
      "4.9,3.1,1.5,0.1,Iris-setosa\n",
      "\n",
      "4.4,3.0,1.3,0.2,Iris-setosa\n",
      "\n",
      "5.1,3.4,1.5,0.2,Iris-setosa\n",
      "\n",
      "5.0,3.5,1.3,0.3,Iris-setosa\n",
      "\n",
      "4.5,2.3,1.3,0.3,Iris-setosa\n",
      "\n",
      "4.4,3.2,1.3,0.2,Iris-setosa\n",
      "\n",
      "5.0,3.5,1.6,0.6,Iris-setosa\n",
      "\n",
      "5.1,3.8,1.9,0.4,Iris-setosa\n",
      "\n",
      "4.8,3.0,1.4,0.3,Iris-setosa\n",
      "\n",
      "5.1,3.8,1.6,0.2,Iris-setosa\n",
      "\n",
      "4.6,3.2,1.4,0.2,Iris-setosa\n",
      "\n",
      "5.3,3.7,1.5,0.2,Iris-setosa\n",
      "\n",
      "5.0,3.3,1.4,0.2,Iris-setosa\n",
      "\n"
     ]
    }
   ],
   "source": [
    "f2 = open(\"/Users/tewat/DataSciense/iris.data.txt\",\"r\") #data contains only Iris-setosa\n",
    "for f3 in f2:\n",
    "    if 'Iris-setosa' in f3:\n",
    "        print(f3)"
   ]
  },
  {
   "cell_type": "code",
   "execution_count": 133,
   "metadata": {},
   "outputs": [
    {
     "name": "stdout",
     "output_type": "stream",
     "text": [
      "7.0,3.2,4.7,1.4,Iris-versicolor\n",
      "\n",
      "6.4,3.2,4.5,1.5,Iris-versicolor\n",
      "\n",
      "6.9,3.1,4.9,1.5,Iris-versicolor\n",
      "\n",
      "5.5,2.3,4.0,1.3,Iris-versicolor\n",
      "\n",
      "6.5,2.8,4.6,1.5,Iris-versicolor\n",
      "\n",
      "5.7,2.8,4.5,1.3,Iris-versicolor\n",
      "\n",
      "6.3,3.3,4.7,1.6,Iris-versicolor\n",
      "\n",
      "4.9,2.4,3.3,1.0,Iris-versicolor\n",
      "\n",
      "6.6,2.9,4.6,1.3,Iris-versicolor\n",
      "\n",
      "5.2,2.7,3.9,1.4,Iris-versicolor\n",
      "\n",
      "5.0,2.0,3.5,1.0,Iris-versicolor\n",
      "\n",
      "5.9,3.0,4.2,1.5,Iris-versicolor\n",
      "\n",
      "6.0,2.2,4.0,1.0,Iris-versicolor\n",
      "\n",
      "6.1,2.9,4.7,1.4,Iris-versicolor\n",
      "\n",
      "5.6,2.9,3.6,1.3,Iris-versicolor\n",
      "\n",
      "6.7,3.1,4.4,1.4,Iris-versicolor\n",
      "\n",
      "5.6,3.0,4.5,1.5,Iris-versicolor\n",
      "\n",
      "5.8,2.7,4.1,1.0,Iris-versicolor\n",
      "\n",
      "6.2,2.2,4.5,1.5,Iris-versicolor\n",
      "\n",
      "5.6,2.5,3.9,1.1,Iris-versicolor\n",
      "\n",
      "5.9,3.2,4.8,1.8,Iris-versicolor\n",
      "\n",
      "6.1,2.8,4.0,1.3,Iris-versicolor\n",
      "\n",
      "6.3,2.5,4.9,1.5,Iris-versicolor\n",
      "\n",
      "6.1,2.8,4.7,1.2,Iris-versicolor\n",
      "\n",
      "6.4,2.9,4.3,1.3,Iris-versicolor\n",
      "\n",
      "6.6,3.0,4.4,1.4,Iris-versicolor\n",
      "\n",
      "6.8,2.8,4.8,1.4,Iris-versicolor\n",
      "\n",
      "6.7,3.0,5.0,1.7,Iris-versicolor\n",
      "\n",
      "6.0,2.9,4.5,1.5,Iris-versicolor\n",
      "\n",
      "5.7,2.6,3.5,1.0,Iris-versicolor\n",
      "\n",
      "5.5,2.4,3.8,1.1,Iris-versicolor\n",
      "\n",
      "5.5,2.4,3.7,1.0,Iris-versicolor\n",
      "\n",
      "5.8,2.7,3.9,1.2,Iris-versicolor\n",
      "\n",
      "6.0,2.7,5.1,1.6,Iris-versicolor\n",
      "\n",
      "5.4,3.0,4.5,1.5,Iris-versicolor\n",
      "\n",
      "6.0,3.4,4.5,1.6,Iris-versicolor\n",
      "\n",
      "6.7,3.1,4.7,1.5,Iris-versicolor\n",
      "\n",
      "6.3,2.3,4.4,1.3,Iris-versicolor\n",
      "\n",
      "5.6,3.0,4.1,1.3,Iris-versicolor\n",
      "\n",
      "5.5,2.5,4.0,1.3,Iris-versicolor\n",
      "\n",
      "5.5,2.6,4.4,1.2,Iris-versicolor\n",
      "\n",
      "6.1,3.0,4.6,1.4,Iris-versicolor\n",
      "\n",
      "5.8,2.6,4.0,1.2,Iris-versicolor\n",
      "\n",
      "5.0,2.3,3.3,1.0,Iris-versicolor\n",
      "\n",
      "5.6,2.7,4.2,1.3,Iris-versicolor\n",
      "\n",
      "5.7,3.0,4.2,1.2,Iris-versicolor\n",
      "\n",
      "5.7,2.9,4.2,1.3,Iris-versicolor\n",
      "\n",
      "6.2,2.9,4.3,1.3,Iris-versicolor\n",
      "\n",
      "5.1,2.5,3.0,1.1,Iris-versicolor\n",
      "\n",
      "5.7,2.8,4.1,1.3,Iris-versicolor\n",
      "\n"
     ]
    }
   ],
   "source": [
    "f2 = open(\"/Users/tewat/DataSciense/iris.data.txt\",\"r\") #data contains only Iris-versicolor\n",
    "for f4 in f2:\n",
    "    if 'Iris-versicolor' in f4:\n",
    "        print(f4)"
   ]
  },
  {
   "cell_type": "code",
   "execution_count": 166,
   "metadata": {},
   "outputs": [
    {
     "name": "stdout",
     "output_type": "stream",
     "text": [
      "6.3,3.3,6.0,2.5,Iris-virginica\n",
      "\n",
      "5.8,2.7,5.1,1.9,Iris-virginica\n",
      "\n",
      "7.1,3.0,5.9,2.1,Iris-virginica\n",
      "\n",
      "6.3,2.9,5.6,1.8,Iris-virginica\n",
      "\n",
      "6.5,3.0,5.8,2.2,Iris-virginica\n",
      "\n",
      "7.6,3.0,6.6,2.1,Iris-virginica\n",
      "\n",
      "4.9,2.5,4.5,1.7,Iris-virginica\n",
      "\n",
      "7.3,2.9,6.3,1.8,Iris-virginica\n",
      "\n",
      "6.7,2.5,5.8,1.8,Iris-virginica\n",
      "\n",
      "7.2,3.6,6.1,2.5,Iris-virginica\n",
      "\n",
      "6.5,3.2,5.1,2.0,Iris-virginica\n",
      "\n",
      "6.4,2.7,5.3,1.9,Iris-virginica\n",
      "\n",
      "6.8,3.0,5.5,2.1,Iris-virginica\n",
      "\n",
      "5.7,2.5,5.0,2.0,Iris-virginica\n",
      "\n",
      "5.8,2.8,5.1,2.4,Iris-virginica\n",
      "\n",
      "6.4,3.2,5.3,2.3,Iris-virginica\n",
      "\n",
      "6.5,3.0,5.5,1.8,Iris-virginica\n",
      "\n",
      "7.7,3.8,6.7,2.2,Iris-virginica\n",
      "\n",
      "7.7,2.6,6.9,2.3,Iris-virginica\n",
      "\n",
      "6.0,2.2,5.0,1.5,Iris-virginica\n",
      "\n",
      "6.9,3.2,5.7,2.3,Iris-virginica\n",
      "\n",
      "5.6,2.8,4.9,2.0,Iris-virginica\n",
      "\n",
      "7.7,2.8,6.7,2.0,Iris-virginica\n",
      "\n",
      "6.3,2.7,4.9,1.8,Iris-virginica\n",
      "\n",
      "6.7,3.3,5.7,2.1,Iris-virginica\n",
      "\n",
      "7.2,3.2,6.0,1.8,Iris-virginica\n",
      "\n",
      "6.2,2.8,4.8,1.8,Iris-virginica\n",
      "\n",
      "6.1,3.0,4.9,1.8,Iris-virginica\n",
      "\n",
      "6.4,2.8,5.6,2.1,Iris-virginica\n",
      "\n",
      "7.2,3.0,5.8,1.6,Iris-virginica\n",
      "\n",
      "7.4,2.8,6.1,1.9,Iris-virginica\n",
      "\n",
      "7.9,3.8,6.4,2.0,Iris-virginica\n",
      "\n",
      "6.4,2.8,5.6,2.2,Iris-virginica\n",
      "\n",
      "6.3,2.8,5.1,1.5,Iris-virginica\n",
      "\n",
      "6.1,2.6,5.6,1.4,Iris-virginica\n",
      "\n",
      "7.7,3.0,6.1,2.3,Iris-virginica\n",
      "\n",
      "6.3,3.4,5.6,2.4,Iris-virginica\n",
      "\n",
      "6.4,3.1,5.5,1.8,Iris-virginica\n",
      "\n",
      "6.0,3.0,4.8,1.8,Iris-virginica\n",
      "\n",
      "6.9,3.1,5.4,2.1,Iris-virginica\n",
      "\n",
      "6.7,3.1,5.6,2.4,Iris-virginica\n",
      "\n",
      "6.9,3.1,5.1,2.3,Iris-virginica\n",
      "\n",
      "5.8,2.7,5.1,1.9,Iris-virginica\n",
      "\n",
      "6.8,3.2,5.9,2.3,Iris-virginica\n",
      "\n",
      "6.7,3.3,5.7,2.5,Iris-virginica\n",
      "\n",
      "6.7,3.0,5.2,2.3,Iris-virginica\n",
      "\n",
      "6.3,2.5,5.0,1.9,Iris-virginica\n",
      "\n",
      "6.5,3.0,5.2,2.0,Iris-virginica\n",
      "\n",
      "6.2,3.4,5.4,2.3,Iris-virginica\n",
      "\n",
      "5.9,3.0,5.1,1.8,Iris-virginica\n",
      "\n"
     ]
    }
   ],
   "source": [
    "f2 = open(\"/Users/tewat/DataSciense/iris.data.txt\",\"r\") #data contains only Iris-virginica\n",
    "for f5 in f2:\n",
    "    if 'Iris-virginica' in f5:\n",
    "        print(f5)"
   ]
  },
  {
   "cell_type": "code",
   "execution_count": 51,
   "metadata": {},
   "outputs": [],
   "source": [
    "iris_sentosa = []"
   ]
  },
  {
   "cell_type": "code",
   "execution_count": 52,
   "metadata": {},
   "outputs": [],
   "source": [
    "iris_versicolor = []"
   ]
  },
  {
   "cell_type": "code",
   "execution_count": 53,
   "metadata": {},
   "outputs": [],
   "source": [
    "iris_virginica = []"
   ]
  },
  {
   "cell_type": "code",
   "execution_count": 52,
   "metadata": {},
   "outputs": [
    {
     "name": "stdout",
     "output_type": "stream",
     "text": [
      "5.1,3.5,1.4,0.2,Iris-setosa\n",
      "\n",
      "4.9,3.0,1.4,0.2,Iris-setosa\n",
      "\n",
      "4.7,3.2,1.3,0.2,Iris-setosa\n",
      "\n",
      "4.6,3.1,1.5,0.2,Iris-setosa\n",
      "\n",
      "5.0,3.6,1.4,0.2,Iris-setosa\n",
      "\n",
      "5.4,3.9,1.7,0.4,Iris-setosa\n",
      "\n",
      "4.6,3.4,1.4,0.3,Iris-setosa\n",
      "\n",
      "5.0,3.4,1.5,0.2,Iris-setosa\n",
      "\n",
      "4.4,2.9,1.4,0.2,Iris-setosa\n",
      "\n",
      "4.9,3.1,1.5,0.1,Iris-setosa\n",
      "\n",
      "5.4,3.7,1.5,0.2,Iris-setosa\n",
      "\n",
      "4.8,3.4,1.6,0.2,Iris-setosa\n",
      "\n",
      "4.8,3.0,1.4,0.1,Iris-setosa\n",
      "\n",
      "4.3,3.0,1.1,0.1,Iris-setosa\n",
      "\n",
      "5.8,4.0,1.2,0.2,Iris-setosa\n",
      "\n",
      "5.7,4.4,1.5,0.4,Iris-setosa\n",
      "\n",
      "5.4,3.9,1.3,0.4,Iris-setosa\n",
      "\n",
      "5.1,3.5,1.4,0.3,Iris-setosa\n",
      "\n",
      "5.7,3.8,1.7,0.3,Iris-setosa\n",
      "\n",
      "5.1,3.8,1.5,0.3,Iris-setosa\n",
      "\n",
      "5.4,3.4,1.7,0.2,Iris-setosa\n",
      "\n",
      "5.1,3.7,1.5,0.4,Iris-setosa\n",
      "\n",
      "4.6,3.6,1.0,0.2,Iris-setosa\n",
      "\n",
      "5.1,3.3,1.7,0.5,Iris-setosa\n",
      "\n",
      "4.8,3.4,1.9,0.2,Iris-setosa\n",
      "\n",
      "5.0,3.0,1.6,0.2,Iris-setosa\n",
      "\n",
      "5.0,3.4,1.6,0.4,Iris-setosa\n",
      "\n",
      "5.2,3.5,1.5,0.2,Iris-setosa\n",
      "\n",
      "5.2,3.4,1.4,0.2,Iris-setosa\n",
      "\n",
      "4.7,3.2,1.6,0.2,Iris-setosa\n",
      "\n",
      "4.8,3.1,1.6,0.2,Iris-setosa\n",
      "\n",
      "5.4,3.4,1.5,0.4,Iris-setosa\n",
      "\n",
      "5.2,4.1,1.5,0.1,Iris-setosa\n",
      "\n",
      "5.5,4.2,1.4,0.2,Iris-setosa\n",
      "\n",
      "4.9,3.1,1.5,0.1,Iris-setosa\n",
      "\n",
      "5.0,3.2,1.2,0.2,Iris-setosa\n",
      "\n",
      "5.5,3.5,1.3,0.2,Iris-setosa\n",
      "\n",
      "4.9,3.1,1.5,0.1,Iris-setosa\n",
      "\n",
      "4.4,3.0,1.3,0.2,Iris-setosa\n",
      "\n",
      "5.1,3.4,1.5,0.2,Iris-setosa\n",
      "\n",
      "5.0,3.5,1.3,0.3,Iris-setosa\n",
      "\n",
      "4.5,2.3,1.3,0.3,Iris-setosa\n",
      "\n",
      "4.4,3.2,1.3,0.2,Iris-setosa\n",
      "\n",
      "5.0,3.5,1.6,0.6,Iris-setosa\n",
      "\n",
      "5.1,3.8,1.9,0.4,Iris-setosa\n",
      "\n",
      "4.8,3.0,1.4,0.3,Iris-setosa\n",
      "\n",
      "5.1,3.8,1.6,0.2,Iris-setosa\n",
      "\n",
      "4.6,3.2,1.4,0.2,Iris-setosa\n",
      "\n",
      "5.3,3.7,1.5,0.2,Iris-setosa\n",
      "\n",
      "5.0,3.3,1.4,0.2,Iris-setosa\n",
      "\n",
      "7.0,3.2,4.7,1.4,Iris-versicolor\n",
      "\n",
      "6.4,3.2,4.5,1.5,Iris-versicolor\n",
      "\n",
      "6.9,3.1,4.9,1.5,Iris-versicolor\n",
      "\n",
      "5.5,2.3,4.0,1.3,Iris-versicolor\n",
      "\n",
      "6.5,2.8,4.6,1.5,Iris-versicolor\n",
      "\n",
      "5.7,2.8,4.5,1.3,Iris-versicolor\n",
      "\n",
      "6.3,3.3,4.7,1.6,Iris-versicolor\n",
      "\n",
      "4.9,2.4,3.3,1.0,Iris-versicolor\n",
      "\n",
      "6.6,2.9,4.6,1.3,Iris-versicolor\n",
      "\n",
      "5.2,2.7,3.9,1.4,Iris-versicolor\n",
      "\n",
      "5.0,2.0,3.5,1.0,Iris-versicolor\n",
      "\n",
      "5.9,3.0,4.2,1.5,Iris-versicolor\n",
      "\n",
      "6.0,2.2,4.0,1.0,Iris-versicolor\n",
      "\n",
      "6.1,2.9,4.7,1.4,Iris-versicolor\n",
      "\n",
      "5.6,2.9,3.6,1.3,Iris-versicolor\n",
      "\n",
      "6.7,3.1,4.4,1.4,Iris-versicolor\n",
      "\n",
      "5.6,3.0,4.5,1.5,Iris-versicolor\n",
      "\n",
      "5.8,2.7,4.1,1.0,Iris-versicolor\n",
      "\n",
      "6.2,2.2,4.5,1.5,Iris-versicolor\n",
      "\n",
      "5.6,2.5,3.9,1.1,Iris-versicolor\n",
      "\n",
      "5.9,3.2,4.8,1.8,Iris-versicolor\n",
      "\n",
      "6.1,2.8,4.0,1.3,Iris-versicolor\n",
      "\n",
      "6.3,2.5,4.9,1.5,Iris-versicolor\n",
      "\n",
      "6.1,2.8,4.7,1.2,Iris-versicolor\n",
      "\n",
      "6.4,2.9,4.3,1.3,Iris-versicolor\n",
      "\n",
      "6.6,3.0,4.4,1.4,Iris-versicolor\n",
      "\n",
      "6.8,2.8,4.8,1.4,Iris-versicolor\n",
      "\n",
      "6.7,3.0,5.0,1.7,Iris-versicolor\n",
      "\n",
      "6.0,2.9,4.5,1.5,Iris-versicolor\n",
      "\n",
      "5.7,2.6,3.5,1.0,Iris-versicolor\n",
      "\n",
      "5.5,2.4,3.8,1.1,Iris-versicolor\n",
      "\n",
      "5.5,2.4,3.7,1.0,Iris-versicolor\n",
      "\n",
      "5.8,2.7,3.9,1.2,Iris-versicolor\n",
      "\n",
      "6.0,2.7,5.1,1.6,Iris-versicolor\n",
      "\n",
      "5.4,3.0,4.5,1.5,Iris-versicolor\n",
      "\n",
      "6.0,3.4,4.5,1.6,Iris-versicolor\n",
      "\n",
      "6.7,3.1,4.7,1.5,Iris-versicolor\n",
      "\n",
      "6.3,2.3,4.4,1.3,Iris-versicolor\n",
      "\n",
      "5.6,3.0,4.1,1.3,Iris-versicolor\n",
      "\n",
      "5.5,2.5,4.0,1.3,Iris-versicolor\n",
      "\n",
      "5.5,2.6,4.4,1.2,Iris-versicolor\n",
      "\n",
      "6.1,3.0,4.6,1.4,Iris-versicolor\n",
      "\n",
      "5.8,2.6,4.0,1.2,Iris-versicolor\n",
      "\n",
      "5.0,2.3,3.3,1.0,Iris-versicolor\n",
      "\n",
      "5.6,2.7,4.2,1.3,Iris-versicolor\n",
      "\n",
      "5.7,3.0,4.2,1.2,Iris-versicolor\n",
      "\n",
      "5.7,2.9,4.2,1.3,Iris-versicolor\n",
      "\n",
      "6.2,2.9,4.3,1.3,Iris-versicolor\n",
      "\n",
      "5.1,2.5,3.0,1.1,Iris-versicolor\n",
      "\n",
      "5.7,2.8,4.1,1.3,Iris-versicolor\n",
      "\n",
      "no more file\n"
     ]
    }
   ],
   "source": [
    "iris_sentosa = []\n",
    "iris_versicolor = []\n",
    "iris_virginica = []\n",
    "f2 = open(\"/Users/tewat/DataSciense/iris.data.txt\",\"r\") #data contains only Iris-virginica\n",
    "for f5 in f2:\n",
    "    if \"Iris-setosa\" in f5:\n",
    "        iris_sentosa.append(f5)         \n",
    "        print(f5)\n",
    "    elif \"Iris-versicolor\" in f5:\n",
    "        iris_versicolor.append(f5)\n",
    "        print(f5)\n",
    "    elif \"Iris-verginica\" in f5:\n",
    "        iris_virginica.append(f5)\n",
    "        print(f5)\n",
    "else:\n",
    "    print(\"no more file\")"
   ]
  },
  {
   "cell_type": "code",
   "execution_count": 53,
   "metadata": {},
   "outputs": [
    {
     "name": "stdout",
     "output_type": "stream",
     "text": [
      "['5.1,3.5,1.4,0.2,Iris-setosa\\n', '4.9,3.0,1.4,0.2,Iris-setosa\\n', '4.7,3.2,1.3,0.2,Iris-setosa\\n', '4.6,3.1,1.5,0.2,Iris-setosa\\n', '5.0,3.6,1.4,0.2,Iris-setosa\\n', '5.4,3.9,1.7,0.4,Iris-setosa\\n', '4.6,3.4,1.4,0.3,Iris-setosa\\n', '5.0,3.4,1.5,0.2,Iris-setosa\\n', '4.4,2.9,1.4,0.2,Iris-setosa\\n', '4.9,3.1,1.5,0.1,Iris-setosa\\n', '5.4,3.7,1.5,0.2,Iris-setosa\\n', '4.8,3.4,1.6,0.2,Iris-setosa\\n', '4.8,3.0,1.4,0.1,Iris-setosa\\n', '4.3,3.0,1.1,0.1,Iris-setosa\\n', '5.8,4.0,1.2,0.2,Iris-setosa\\n', '5.7,4.4,1.5,0.4,Iris-setosa\\n', '5.4,3.9,1.3,0.4,Iris-setosa\\n', '5.1,3.5,1.4,0.3,Iris-setosa\\n', '5.7,3.8,1.7,0.3,Iris-setosa\\n', '5.1,3.8,1.5,0.3,Iris-setosa\\n', '5.4,3.4,1.7,0.2,Iris-setosa\\n', '5.1,3.7,1.5,0.4,Iris-setosa\\n', '4.6,3.6,1.0,0.2,Iris-setosa\\n', '5.1,3.3,1.7,0.5,Iris-setosa\\n', '4.8,3.4,1.9,0.2,Iris-setosa\\n', '5.0,3.0,1.6,0.2,Iris-setosa\\n', '5.0,3.4,1.6,0.4,Iris-setosa\\n', '5.2,3.5,1.5,0.2,Iris-setosa\\n', '5.2,3.4,1.4,0.2,Iris-setosa\\n', '4.7,3.2,1.6,0.2,Iris-setosa\\n', '4.8,3.1,1.6,0.2,Iris-setosa\\n', '5.4,3.4,1.5,0.4,Iris-setosa\\n', '5.2,4.1,1.5,0.1,Iris-setosa\\n', '5.5,4.2,1.4,0.2,Iris-setosa\\n', '4.9,3.1,1.5,0.1,Iris-setosa\\n', '5.0,3.2,1.2,0.2,Iris-setosa\\n', '5.5,3.5,1.3,0.2,Iris-setosa\\n', '4.9,3.1,1.5,0.1,Iris-setosa\\n', '4.4,3.0,1.3,0.2,Iris-setosa\\n', '5.1,3.4,1.5,0.2,Iris-setosa\\n', '5.0,3.5,1.3,0.3,Iris-setosa\\n', '4.5,2.3,1.3,0.3,Iris-setosa\\n', '4.4,3.2,1.3,0.2,Iris-setosa\\n', '5.0,3.5,1.6,0.6,Iris-setosa\\n', '5.1,3.8,1.9,0.4,Iris-setosa\\n', '4.8,3.0,1.4,0.3,Iris-setosa\\n', '5.1,3.8,1.6,0.2,Iris-setosa\\n', '4.6,3.2,1.4,0.2,Iris-setosa\\n', '5.3,3.7,1.5,0.2,Iris-setosa\\n', '5.0,3.3,1.4,0.2,Iris-setosa\\n']\n"
     ]
    }
   ],
   "source": [
    "print(list(iris_sentosa))"
   ]
  },
  {
   "cell_type": "code",
   "execution_count": 41,
   "metadata": {},
   "outputs": [
    {
     "name": "stdout",
     "output_type": "stream",
     "text": [
      "['7.0,3.2,4.7,1.4,Iris-versicolor\\n', '6.4,3.2,4.5,1.5,Iris-versicolor\\n', '6.9,3.1,4.9,1.5,Iris-versicolor\\n', '5.5,2.3,4.0,1.3,Iris-versicolor\\n', '6.5,2.8,4.6,1.5,Iris-versicolor\\n', '5.7,2.8,4.5,1.3,Iris-versicolor\\n', '6.3,3.3,4.7,1.6,Iris-versicolor\\n', '4.9,2.4,3.3,1.0,Iris-versicolor\\n', '6.6,2.9,4.6,1.3,Iris-versicolor\\n', '5.2,2.7,3.9,1.4,Iris-versicolor\\n', '5.0,2.0,3.5,1.0,Iris-versicolor\\n', '5.9,3.0,4.2,1.5,Iris-versicolor\\n', '6.0,2.2,4.0,1.0,Iris-versicolor\\n', '6.1,2.9,4.7,1.4,Iris-versicolor\\n', '5.6,2.9,3.6,1.3,Iris-versicolor\\n', '6.7,3.1,4.4,1.4,Iris-versicolor\\n', '5.6,3.0,4.5,1.5,Iris-versicolor\\n', '5.8,2.7,4.1,1.0,Iris-versicolor\\n', '6.2,2.2,4.5,1.5,Iris-versicolor\\n', '5.6,2.5,3.9,1.1,Iris-versicolor\\n', '5.9,3.2,4.8,1.8,Iris-versicolor\\n', '6.1,2.8,4.0,1.3,Iris-versicolor\\n', '6.3,2.5,4.9,1.5,Iris-versicolor\\n', '6.1,2.8,4.7,1.2,Iris-versicolor\\n', '6.4,2.9,4.3,1.3,Iris-versicolor\\n', '6.6,3.0,4.4,1.4,Iris-versicolor\\n', '6.8,2.8,4.8,1.4,Iris-versicolor\\n', '6.7,3.0,5.0,1.7,Iris-versicolor\\n', '6.0,2.9,4.5,1.5,Iris-versicolor\\n', '5.7,2.6,3.5,1.0,Iris-versicolor\\n', '5.5,2.4,3.8,1.1,Iris-versicolor\\n', '5.5,2.4,3.7,1.0,Iris-versicolor\\n', '5.8,2.7,3.9,1.2,Iris-versicolor\\n', '6.0,2.7,5.1,1.6,Iris-versicolor\\n', '5.4,3.0,4.5,1.5,Iris-versicolor\\n', '6.0,3.4,4.5,1.6,Iris-versicolor\\n', '6.7,3.1,4.7,1.5,Iris-versicolor\\n', '6.3,2.3,4.4,1.3,Iris-versicolor\\n', '5.6,3.0,4.1,1.3,Iris-versicolor\\n', '5.5,2.5,4.0,1.3,Iris-versicolor\\n', '5.5,2.6,4.4,1.2,Iris-versicolor\\n', '6.1,3.0,4.6,1.4,Iris-versicolor\\n', '5.8,2.6,4.0,1.2,Iris-versicolor\\n', '5.0,2.3,3.3,1.0,Iris-versicolor\\n', '5.6,2.7,4.2,1.3,Iris-versicolor\\n', '5.7,3.0,4.2,1.2,Iris-versicolor\\n', '5.7,2.9,4.2,1.3,Iris-versicolor\\n', '6.2,2.9,4.3,1.3,Iris-versicolor\\n', '5.1,2.5,3.0,1.1,Iris-versicolor\\n', '5.7,2.8,4.1,1.3,Iris-versicolor\\n']\n"
     ]
    }
   ],
   "source": [
    "print(iris_versicolor)"
   ]
  },
  {
   "cell_type": "code",
   "execution_count": 57,
   "metadata": {},
   "outputs": [
    {
     "name": "stdout",
     "output_type": "stream",
     "text": [
      "6.3,3.3,6.0,2.5,Iris-virginica\n",
      "\n",
      "5.8,2.7,5.1,1.9,Iris-virginica\n",
      "\n",
      "7.1,3.0,5.9,2.1,Iris-virginica\n",
      "\n",
      "6.3,2.9,5.6,1.8,Iris-virginica\n",
      "\n",
      "6.5,3.0,5.8,2.2,Iris-virginica\n",
      "\n",
      "7.6,3.0,6.6,2.1,Iris-virginica\n",
      "\n",
      "4.9,2.5,4.5,1.7,Iris-virginica\n",
      "\n",
      "7.3,2.9,6.3,1.8,Iris-virginica\n",
      "\n",
      "6.7,2.5,5.8,1.8,Iris-virginica\n",
      "\n",
      "7.2,3.6,6.1,2.5,Iris-virginica\n",
      "\n",
      "6.5,3.2,5.1,2.0,Iris-virginica\n",
      "\n",
      "6.4,2.7,5.3,1.9,Iris-virginica\n",
      "\n",
      "6.8,3.0,5.5,2.1,Iris-virginica\n",
      "\n",
      "5.7,2.5,5.0,2.0,Iris-virginica\n",
      "\n",
      "5.8,2.8,5.1,2.4,Iris-virginica\n",
      "\n",
      "6.4,3.2,5.3,2.3,Iris-virginica\n",
      "\n",
      "6.5,3.0,5.5,1.8,Iris-virginica\n",
      "\n",
      "7.7,3.8,6.7,2.2,Iris-virginica\n",
      "\n",
      "7.7,2.6,6.9,2.3,Iris-virginica\n",
      "\n",
      "6.0,2.2,5.0,1.5,Iris-virginica\n",
      "\n",
      "6.9,3.2,5.7,2.3,Iris-virginica\n",
      "\n",
      "5.6,2.8,4.9,2.0,Iris-virginica\n",
      "\n",
      "7.7,2.8,6.7,2.0,Iris-virginica\n",
      "\n",
      "6.3,2.7,4.9,1.8,Iris-virginica\n",
      "\n",
      "6.7,3.3,5.7,2.1,Iris-virginica\n",
      "\n",
      "7.2,3.2,6.0,1.8,Iris-virginica\n",
      "\n",
      "6.2,2.8,4.8,1.8,Iris-virginica\n",
      "\n",
      "6.1,3.0,4.9,1.8,Iris-virginica\n",
      "\n",
      "6.4,2.8,5.6,2.1,Iris-virginica\n",
      "\n",
      "7.2,3.0,5.8,1.6,Iris-virginica\n",
      "\n",
      "7.4,2.8,6.1,1.9,Iris-virginica\n",
      "\n",
      "7.9,3.8,6.4,2.0,Iris-virginica\n",
      "\n",
      "6.4,2.8,5.6,2.2,Iris-virginica\n",
      "\n",
      "6.3,2.8,5.1,1.5,Iris-virginica\n",
      "\n",
      "6.1,2.6,5.6,1.4,Iris-virginica\n",
      "\n",
      "7.7,3.0,6.1,2.3,Iris-virginica\n",
      "\n",
      "6.3,3.4,5.6,2.4,Iris-virginica\n",
      "\n",
      "6.4,3.1,5.5,1.8,Iris-virginica\n",
      "\n",
      "6.0,3.0,4.8,1.8,Iris-virginica\n",
      "\n",
      "6.9,3.1,5.4,2.1,Iris-virginica\n",
      "\n",
      "6.7,3.1,5.6,2.4,Iris-virginica\n",
      "\n",
      "6.9,3.1,5.1,2.3,Iris-virginica\n",
      "\n",
      "5.8,2.7,5.1,1.9,Iris-virginica\n",
      "\n",
      "6.8,3.2,5.9,2.3,Iris-virginica\n",
      "\n",
      "6.7,3.3,5.7,2.5,Iris-virginica\n",
      "\n",
      "6.7,3.0,5.2,2.3,Iris-virginica\n",
      "\n",
      "6.3,2.5,5.0,1.9,Iris-virginica\n",
      "\n",
      "6.5,3.0,5.2,2.0,Iris-virginica\n",
      "\n",
      "6.2,3.4,5.4,2.3,Iris-virginica\n",
      "\n",
      "5.9,3.0,5.1,1.8,Iris-virginica\n",
      "\n"
     ]
    }
   ],
   "source": [
    "f2 = open(\"/Users/tewat/DataSciense/iris.data.txt\",\"r\") #data contains only Iris-virginica\n",
    "for f5 in f2:\n",
    "    if 'Iris-virginica' in f5:\n",
    "        print(f5)"
   ]
  },
  {
   "cell_type": "code",
   "execution_count": 61,
   "metadata": {},
   "outputs": [],
   "source": [
    "split_line = '5.9,3.0,5.1,1.8,Iris-virginica'#spliting a line example\n"
   ]
  },
  {
   "cell_type": "code",
   "execution_count": 62,
   "metadata": {},
   "outputs": [],
   "source": [
    "split_line2 = split_line.split(',')"
   ]
  },
  {
   "cell_type": "code",
   "execution_count": 63,
   "metadata": {},
   "outputs": [
    {
     "data": {
      "text/plain": [
       "['5.9', '3.0', '5.1', '1.8', 'Iris-virginica']"
      ]
     },
     "execution_count": 63,
     "metadata": {},
     "output_type": "execute_result"
    }
   ],
   "source": [
    "split_line2"
   ]
  },
  {
   "cell_type": "code",
   "execution_count": 64,
   "metadata": {},
   "outputs": [
    {
     "data": {
      "text/plain": [
       "'5.1'"
      ]
     },
     "execution_count": 64,
     "metadata": {},
     "output_type": "execute_result"
    }
   ],
   "source": [
    "split_line2[2]"
   ]
  },
  {
   "cell_type": "code",
   "execution_count": 69,
   "metadata": {},
   "outputs": [],
   "source": [
    "f2 = open(\"/Users/tewat/DataSciense/iris.data.txt\",\"r\") #data contains only Iris-virginica\n"
   ]
  },
  {
   "cell_type": "code",
   "execution_count": 70,
   "metadata": {},
   "outputs": [],
   "source": [
    "first_col = []"
   ]
  },
  {
   "cell_type": "code",
   "execution_count": 71,
   "metadata": {},
   "outputs": [],
   "source": [
    "for line in f2:\n",
    "    split_line2 = line.split(\",\")\n",
    "    first_col.append(split_line2[0])"
   ]
  },
  {
   "cell_type": "code",
   "execution_count": 74,
   "metadata": {},
   "outputs": [
    {
     "data": {
      "text/plain": [
       "['5.1',\n",
       " '4.9',\n",
       " '4.7',\n",
       " '4.6',\n",
       " '5.0',\n",
       " '5.4',\n",
       " '4.6',\n",
       " '5.0',\n",
       " '4.4',\n",
       " '4.9',\n",
       " '5.4',\n",
       " '4.8',\n",
       " '4.8',\n",
       " '4.3',\n",
       " '5.8',\n",
       " '5.7',\n",
       " '5.4',\n",
       " '5.1',\n",
       " '5.7',\n",
       " '5.1',\n",
       " '5.4',\n",
       " '5.1',\n",
       " '4.6',\n",
       " '5.1',\n",
       " '4.8',\n",
       " '5.0',\n",
       " '5.0',\n",
       " '5.2',\n",
       " '5.2',\n",
       " '4.7',\n",
       " '4.8',\n",
       " '5.4',\n",
       " '5.2',\n",
       " '5.5',\n",
       " '4.9',\n",
       " '5.0',\n",
       " '5.5',\n",
       " '4.9',\n",
       " '4.4',\n",
       " '5.1',\n",
       " '5.0',\n",
       " '4.5',\n",
       " '4.4',\n",
       " '5.0',\n",
       " '5.1',\n",
       " '4.8',\n",
       " '5.1',\n",
       " '4.6',\n",
       " '5.3',\n",
       " '5.0',\n",
       " '7.0',\n",
       " '6.4',\n",
       " '6.9',\n",
       " '5.5',\n",
       " '6.5',\n",
       " '5.7',\n",
       " '6.3',\n",
       " '4.9',\n",
       " '6.6',\n",
       " '5.2',\n",
       " '5.0',\n",
       " '5.9',\n",
       " '6.0',\n",
       " '6.1',\n",
       " '5.6',\n",
       " '6.7',\n",
       " '5.6',\n",
       " '5.8',\n",
       " '6.2',\n",
       " '5.6',\n",
       " '5.9',\n",
       " '6.1',\n",
       " '6.3',\n",
       " '6.1',\n",
       " '6.4',\n",
       " '6.6',\n",
       " '6.8',\n",
       " '6.7',\n",
       " '6.0',\n",
       " '5.7',\n",
       " '5.5',\n",
       " '5.5',\n",
       " '5.8',\n",
       " '6.0',\n",
       " '5.4',\n",
       " '6.0',\n",
       " '6.7',\n",
       " '6.3',\n",
       " '5.6',\n",
       " '5.5',\n",
       " '5.5',\n",
       " '6.1',\n",
       " '5.8',\n",
       " '5.0',\n",
       " '5.6',\n",
       " '5.7',\n",
       " '5.7',\n",
       " '6.2',\n",
       " '5.1',\n",
       " '5.7',\n",
       " '6.3',\n",
       " '5.8',\n",
       " '7.1',\n",
       " '6.3',\n",
       " '6.5',\n",
       " '7.6',\n",
       " '4.9',\n",
       " '7.3',\n",
       " '6.7',\n",
       " '7.2',\n",
       " '6.5',\n",
       " '6.4',\n",
       " '6.8',\n",
       " '5.7',\n",
       " '5.8',\n",
       " '6.4',\n",
       " '6.5',\n",
       " '7.7',\n",
       " '7.7',\n",
       " '6.0',\n",
       " '6.9',\n",
       " '5.6',\n",
       " '7.7',\n",
       " '6.3',\n",
       " '6.7',\n",
       " '7.2',\n",
       " '6.2',\n",
       " '6.1',\n",
       " '6.4',\n",
       " '7.2',\n",
       " '7.4',\n",
       " '7.9',\n",
       " '6.4',\n",
       " '6.3',\n",
       " '6.1',\n",
       " '7.7',\n",
       " '6.3',\n",
       " '6.4',\n",
       " '6.0',\n",
       " '6.9',\n",
       " '6.7',\n",
       " '6.9',\n",
       " '5.8',\n",
       " '6.8',\n",
       " '6.7',\n",
       " '6.7',\n",
       " '6.3',\n",
       " '6.5',\n",
       " '6.2',\n",
       " '5.9']"
      ]
     },
     "execution_count": 74,
     "metadata": {},
     "output_type": "execute_result"
    }
   ],
   "source": [
    "first_col[:-1]"
   ]
  },
  {
   "cell_type": "code",
   "execution_count": 75,
   "metadata": {},
   "outputs": [
    {
     "data": {
      "text/plain": [
       "151"
      ]
     },
     "execution_count": 75,
     "metadata": {},
     "output_type": "execute_result"
    }
   ],
   "source": [
    "len(first_col)"
   ]
  },
  {
   "cell_type": "code",
   "execution_count": 76,
   "metadata": {},
   "outputs": [
    {
     "data": {
      "text/plain": [
       "'7.9'"
      ]
     },
     "execution_count": 76,
     "metadata": {},
     "output_type": "execute_result"
    }
   ],
   "source": [
    "max(first_col) #max from list"
   ]
  },
  {
   "cell_type": "code",
   "execution_count": 80,
   "metadata": {},
   "outputs": [],
   "source": [
    "new_col = first_col[:150] #removed the last element from list"
   ]
  },
  {
   "cell_type": "code",
   "execution_count": 81,
   "metadata": {},
   "outputs": [
    {
     "data": {
      "text/plain": [
       "['5.1',\n",
       " '4.9',\n",
       " '4.7',\n",
       " '4.6',\n",
       " '5.0',\n",
       " '5.4',\n",
       " '4.6',\n",
       " '5.0',\n",
       " '4.4',\n",
       " '4.9',\n",
       " '5.4',\n",
       " '4.8',\n",
       " '4.8',\n",
       " '4.3',\n",
       " '5.8',\n",
       " '5.7',\n",
       " '5.4',\n",
       " '5.1',\n",
       " '5.7',\n",
       " '5.1',\n",
       " '5.4',\n",
       " '5.1',\n",
       " '4.6',\n",
       " '5.1',\n",
       " '4.8',\n",
       " '5.0',\n",
       " '5.0',\n",
       " '5.2',\n",
       " '5.2',\n",
       " '4.7',\n",
       " '4.8',\n",
       " '5.4',\n",
       " '5.2',\n",
       " '5.5',\n",
       " '4.9',\n",
       " '5.0',\n",
       " '5.5',\n",
       " '4.9',\n",
       " '4.4',\n",
       " '5.1',\n",
       " '5.0',\n",
       " '4.5',\n",
       " '4.4',\n",
       " '5.0',\n",
       " '5.1',\n",
       " '4.8',\n",
       " '5.1',\n",
       " '4.6',\n",
       " '5.3',\n",
       " '5.0',\n",
       " '7.0',\n",
       " '6.4',\n",
       " '6.9',\n",
       " '5.5',\n",
       " '6.5',\n",
       " '5.7',\n",
       " '6.3',\n",
       " '4.9',\n",
       " '6.6',\n",
       " '5.2',\n",
       " '5.0',\n",
       " '5.9',\n",
       " '6.0',\n",
       " '6.1',\n",
       " '5.6',\n",
       " '6.7',\n",
       " '5.6',\n",
       " '5.8',\n",
       " '6.2',\n",
       " '5.6',\n",
       " '5.9',\n",
       " '6.1',\n",
       " '6.3',\n",
       " '6.1',\n",
       " '6.4',\n",
       " '6.6',\n",
       " '6.8',\n",
       " '6.7',\n",
       " '6.0',\n",
       " '5.7',\n",
       " '5.5',\n",
       " '5.5',\n",
       " '5.8',\n",
       " '6.0',\n",
       " '5.4',\n",
       " '6.0',\n",
       " '6.7',\n",
       " '6.3',\n",
       " '5.6',\n",
       " '5.5',\n",
       " '5.5',\n",
       " '6.1',\n",
       " '5.8',\n",
       " '5.0',\n",
       " '5.6',\n",
       " '5.7',\n",
       " '5.7',\n",
       " '6.2',\n",
       " '5.1',\n",
       " '5.7',\n",
       " '6.3',\n",
       " '5.8',\n",
       " '7.1',\n",
       " '6.3',\n",
       " '6.5',\n",
       " '7.6',\n",
       " '4.9',\n",
       " '7.3',\n",
       " '6.7',\n",
       " '7.2',\n",
       " '6.5',\n",
       " '6.4',\n",
       " '6.8',\n",
       " '5.7',\n",
       " '5.8',\n",
       " '6.4',\n",
       " '6.5',\n",
       " '7.7',\n",
       " '7.7',\n",
       " '6.0',\n",
       " '6.9',\n",
       " '5.6',\n",
       " '7.7',\n",
       " '6.3',\n",
       " '6.7',\n",
       " '7.2',\n",
       " '6.2',\n",
       " '6.1',\n",
       " '6.4',\n",
       " '7.2',\n",
       " '7.4',\n",
       " '7.9',\n",
       " '6.4',\n",
       " '6.3',\n",
       " '6.1',\n",
       " '7.7',\n",
       " '6.3',\n",
       " '6.4',\n",
       " '6.0',\n",
       " '6.9',\n",
       " '6.7',\n",
       " '6.9',\n",
       " '5.8',\n",
       " '6.8',\n",
       " '6.7',\n",
       " '6.7',\n",
       " '6.3',\n",
       " '6.5',\n",
       " '6.2',\n",
       " '5.9']"
      ]
     },
     "execution_count": 81,
     "metadata": {},
     "output_type": "execute_result"
    }
   ],
   "source": [
    "new_col.remove"
   ]
  },
  {
   "cell_type": "code",
   "execution_count": 82,
   "metadata": {},
   "outputs": [
    {
     "data": {
      "text/plain": [
       "'4.3'"
      ]
     },
     "execution_count": 82,
     "metadata": {},
     "output_type": "execute_result"
    }
   ],
   "source": [
    "min(new_col)"
   ]
  },
  {
   "cell_type": "code",
   "execution_count": 119,
   "metadata": {},
   "outputs": [
    {
     "name": "stdout",
     "output_type": "stream",
     "text": [
      "6.3,3.3,6.0,2.5,Iris-virginica\n",
      "\n",
      "5.8,2.7,5.1,1.9,Iris-virginica\n",
      "\n",
      "7.1,3.0,5.9,2.1,Iris-virginica\n",
      "\n",
      "6.3,2.9,5.6,1.8,Iris-virginica\n",
      "\n",
      "6.5,3.0,5.8,2.2,Iris-virginica\n",
      "\n",
      "7.6,3.0,6.6,2.1,Iris-virginica\n",
      "\n",
      "4.9,2.5,4.5,1.7,Iris-virginica\n",
      "\n",
      "7.3,2.9,6.3,1.8,Iris-virginica\n",
      "\n",
      "6.7,2.5,5.8,1.8,Iris-virginica\n",
      "\n",
      "7.2,3.6,6.1,2.5,Iris-virginica\n",
      "\n",
      "6.5,3.2,5.1,2.0,Iris-virginica\n",
      "\n",
      "6.4,2.7,5.3,1.9,Iris-virginica\n",
      "\n",
      "6.8,3.0,5.5,2.1,Iris-virginica\n",
      "\n",
      "5.7,2.5,5.0,2.0,Iris-virginica\n",
      "\n",
      "5.8,2.8,5.1,2.4,Iris-virginica\n",
      "\n",
      "6.4,3.2,5.3,2.3,Iris-virginica\n",
      "\n",
      "6.5,3.0,5.5,1.8,Iris-virginica\n",
      "\n",
      "7.7,3.8,6.7,2.2,Iris-virginica\n",
      "\n",
      "7.7,2.6,6.9,2.3,Iris-virginica\n",
      "\n",
      "6.0,2.2,5.0,1.5,Iris-virginica\n",
      "\n",
      "6.9,3.2,5.7,2.3,Iris-virginica\n",
      "\n",
      "5.6,2.8,4.9,2.0,Iris-virginica\n",
      "\n",
      "7.7,2.8,6.7,2.0,Iris-virginica\n",
      "\n",
      "6.3,2.7,4.9,1.8,Iris-virginica\n",
      "\n",
      "6.7,3.3,5.7,2.1,Iris-virginica\n",
      "\n",
      "7.2,3.2,6.0,1.8,Iris-virginica\n",
      "\n",
      "6.2,2.8,4.8,1.8,Iris-virginica\n",
      "\n",
      "6.1,3.0,4.9,1.8,Iris-virginica\n",
      "\n",
      "6.4,2.8,5.6,2.1,Iris-virginica\n",
      "\n",
      "7.2,3.0,5.8,1.6,Iris-virginica\n",
      "\n",
      "7.4,2.8,6.1,1.9,Iris-virginica\n",
      "\n",
      "7.9,3.8,6.4,2.0,Iris-virginica\n",
      "\n",
      "6.4,2.8,5.6,2.2,Iris-virginica\n",
      "\n",
      "6.3,2.8,5.1,1.5,Iris-virginica\n",
      "\n",
      "6.1,2.6,5.6,1.4,Iris-virginica\n",
      "\n",
      "7.7,3.0,6.1,2.3,Iris-virginica\n",
      "\n",
      "6.3,3.4,5.6,2.4,Iris-virginica\n",
      "\n",
      "6.4,3.1,5.5,1.8,Iris-virginica\n",
      "\n",
      "6.0,3.0,4.8,1.8,Iris-virginica\n",
      "\n",
      "6.9,3.1,5.4,2.1,Iris-virginica\n",
      "\n",
      "6.7,3.1,5.6,2.4,Iris-virginica\n",
      "\n",
      "6.9,3.1,5.1,2.3,Iris-virginica\n",
      "\n",
      "5.8,2.7,5.1,1.9,Iris-virginica\n",
      "\n",
      "6.8,3.2,5.9,2.3,Iris-virginica\n",
      "\n",
      "6.7,3.3,5.7,2.5,Iris-virginica\n",
      "\n",
      "6.7,3.0,5.2,2.3,Iris-virginica\n",
      "\n",
      "6.3,2.5,5.0,1.9,Iris-virginica\n",
      "\n",
      "6.5,3.0,5.2,2.0,Iris-virginica\n",
      "\n",
      "6.2,3.4,5.4,2.3,Iris-virginica\n",
      "\n",
      "5.9,3.0,5.1,1.8,Iris-virginica\n",
      "\n"
     ]
    }
   ],
   "source": [
    "new_list = []\n",
    "f2 = open(\"/Users/tewat/DataSciense/iris.data.txt\",\"r\") #data contains only Iris-virginica\n",
    "for f5 in f2:\n",
    "    if 'Iris-virginica' in f5:\n",
    "        new_list.append(f5)\n",
    "        print(f5)"
   ]
  },
  {
   "cell_type": "code",
   "execution_count": 120,
   "metadata": {},
   "outputs": [
    {
     "name": "stdout",
     "output_type": "stream",
     "text": [
      "['6.3,3.3,6.0,2.5,Iris-virginica\\n', '5.8,2.7,5.1,1.9,Iris-virginica\\n', '7.1,3.0,5.9,2.1,Iris-virginica\\n', '6.3,2.9,5.6,1.8,Iris-virginica\\n', '6.5,3.0,5.8,2.2,Iris-virginica\\n', '7.6,3.0,6.6,2.1,Iris-virginica\\n', '4.9,2.5,4.5,1.7,Iris-virginica\\n', '7.3,2.9,6.3,1.8,Iris-virginica\\n', '6.7,2.5,5.8,1.8,Iris-virginica\\n', '7.2,3.6,6.1,2.5,Iris-virginica\\n', '6.5,3.2,5.1,2.0,Iris-virginica\\n', '6.4,2.7,5.3,1.9,Iris-virginica\\n', '6.8,3.0,5.5,2.1,Iris-virginica\\n', '5.7,2.5,5.0,2.0,Iris-virginica\\n', '5.8,2.8,5.1,2.4,Iris-virginica\\n', '6.4,3.2,5.3,2.3,Iris-virginica\\n', '6.5,3.0,5.5,1.8,Iris-virginica\\n', '7.7,3.8,6.7,2.2,Iris-virginica\\n', '7.7,2.6,6.9,2.3,Iris-virginica\\n', '6.0,2.2,5.0,1.5,Iris-virginica\\n', '6.9,3.2,5.7,2.3,Iris-virginica\\n', '5.6,2.8,4.9,2.0,Iris-virginica\\n', '7.7,2.8,6.7,2.0,Iris-virginica\\n', '6.3,2.7,4.9,1.8,Iris-virginica\\n', '6.7,3.3,5.7,2.1,Iris-virginica\\n', '7.2,3.2,6.0,1.8,Iris-virginica\\n', '6.2,2.8,4.8,1.8,Iris-virginica\\n', '6.1,3.0,4.9,1.8,Iris-virginica\\n', '6.4,2.8,5.6,2.1,Iris-virginica\\n', '7.2,3.0,5.8,1.6,Iris-virginica\\n', '7.4,2.8,6.1,1.9,Iris-virginica\\n', '7.9,3.8,6.4,2.0,Iris-virginica\\n', '6.4,2.8,5.6,2.2,Iris-virginica\\n', '6.3,2.8,5.1,1.5,Iris-virginica\\n', '6.1,2.6,5.6,1.4,Iris-virginica\\n', '7.7,3.0,6.1,2.3,Iris-virginica\\n', '6.3,3.4,5.6,2.4,Iris-virginica\\n', '6.4,3.1,5.5,1.8,Iris-virginica\\n', '6.0,3.0,4.8,1.8,Iris-virginica\\n', '6.9,3.1,5.4,2.1,Iris-virginica\\n', '6.7,3.1,5.6,2.4,Iris-virginica\\n', '6.9,3.1,5.1,2.3,Iris-virginica\\n', '5.8,2.7,5.1,1.9,Iris-virginica\\n', '6.8,3.2,5.9,2.3,Iris-virginica\\n', '6.7,3.3,5.7,2.5,Iris-virginica\\n', '6.7,3.0,5.2,2.3,Iris-virginica\\n', '6.3,2.5,5.0,1.9,Iris-virginica\\n', '6.5,3.0,5.2,2.0,Iris-virginica\\n', '6.2,3.4,5.4,2.3,Iris-virginica\\n', '5.9,3.0,5.1,1.8,Iris-virginica\\n']\n"
     ]
    }
   ],
   "source": [
    "print(new_list)"
   ]
  },
  {
   "cell_type": "code",
   "execution_count": null,
   "metadata": {},
   "outputs": [],
   "source": [
    "f2 = open(\"/Users/tewat/DataSciense/iris.data.txt\",\"r\") #Conditionals in List Comprehension\n",
    "number_list = [ f5 for f5 in f2 if 'Iris-virginica' in f5]"
   ]
  },
  {
   "cell_type": "code",
   "execution_count": null,
   "metadata": {},
   "outputs": [],
   "source": [
    "print(number_list)"
   ]
  },
  {
   "cell_type": "code",
   "execution_count": null,
   "metadata": {},
   "outputs": [],
   "source": []
  }
 ],
 "metadata": {
  "kernelspec": {
   "display_name": "Python 3",
   "language": "python",
   "name": "python3"
  },
  "language_info": {
   "codemirror_mode": {
    "name": "ipython",
    "version": 3
   },
   "file_extension": ".py",
   "mimetype": "text/x-python",
   "name": "python",
   "nbconvert_exporter": "python",
   "pygments_lexer": "ipython3",
   "version": "3.6.4"
  }
 },
 "nbformat": 4,
 "nbformat_minor": 2
}
