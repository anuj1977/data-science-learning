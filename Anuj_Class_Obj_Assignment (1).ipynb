{
 "cells": [
  {
   "cell_type": "markdown",
   "metadata": {},
   "source": [
    "## Class & Objects Examples"
   ]
  },
  {
   "cell_type": "code",
   "execution_count": 5,
   "metadata": {},
   "outputs": [],
   "source": [
    "# class and objects\n",
    "# public class, anyone can access\n",
    "# private class, only child class can access\n",
    "# protected class, only you can access\n",
    "\n",
    "class arthmatic_calc:\n",
    "    def my_add(self, a, b):\n",
    "        return(a+b)\n",
    "    def my_div(self, a, b):\n",
    "        return(a/b)\n",
    "    def my_mult(self, a, b):\n",
    "        return(a*b)"
   ]
  },
  {
   "cell_type": "code",
   "execution_count": 3,
   "metadata": {},
   "outputs": [],
   "source": [
    "first_add = arthmatic_calc()"
   ]
  },
  {
   "cell_type": "code",
   "execution_count": 4,
   "metadata": {},
   "outputs": [
    {
     "data": {
      "text/plain": [
       "35"
      ]
     },
     "execution_count": 4,
     "metadata": {},
     "output_type": "execute_result"
    }
   ],
   "source": [
    "first_add.my_add(10,25)"
   ]
  },
  {
   "cell_type": "code",
   "execution_count": 8,
   "metadata": {},
   "outputs": [
    {
     "data": {
      "text/plain": [
       "0.5"
      ]
     },
     "execution_count": 8,
     "metadata": {},
     "output_type": "execute_result"
    }
   ],
   "source": [
    "first_add.my_div(25,50)"
   ]
  },
  {
   "cell_type": "code",
   "execution_count": 6,
   "metadata": {},
   "outputs": [],
   "source": [
    "first_sub = arthmatic_calc()"
   ]
  },
  {
   "cell_type": "code",
   "execution_count": 7,
   "metadata": {},
   "outputs": [
    {
     "data": {
      "text/plain": [
       "-899"
      ]
     },
     "execution_count": 7,
     "metadata": {},
     "output_type": "execute_result"
    }
   ],
   "source": [
    "first_sub.my_sub(100,999)"
   ]
  },
  {
   "cell_type": "code",
   "execution_count": 9,
   "metadata": {},
   "outputs": [],
   "source": [
    "first_mult = arthmatic_calc()"
   ]
  },
  {
   "cell_type": "code",
   "execution_count": 10,
   "metadata": {},
   "outputs": [
    {
     "data": {
      "text/plain": [
       "125"
      ]
     },
     "execution_count": 10,
     "metadata": {},
     "output_type": "execute_result"
    }
   ],
   "source": [
    "first_mult.my_mult(25,5)"
   ]
  },
  {
   "cell_type": "code",
   "execution_count": 15,
   "metadata": {},
   "outputs": [],
   "source": [
    "#This is a child class inherit the properties from\n",
    "#parent class of \"arthmatic_calc\"\n",
    "\n",
    "class child(arthmatic_calc): \n",
    "    def my_sub(self, a,b):\n",
    "        return(a-b)"
   ]
  },
  {
   "cell_type": "code",
   "execution_count": 13,
   "metadata": {},
   "outputs": [],
   "source": [
    "my_sub = child()"
   ]
  },
  {
   "cell_type": "code",
   "execution_count": 14,
   "metadata": {},
   "outputs": [
    {
     "data": {
      "text/plain": [
       "-3"
      ]
     },
     "execution_count": 14,
     "metadata": {},
     "output_type": "execute_result"
    }
   ],
   "source": [
    "my_sub.my_sub(55,58)"
   ]
  },
  {
   "cell_type": "code",
   "execution_count": 136,
   "metadata": {},
   "outputs": [],
   "source": [
    "#Example of init class \"__init__ method called automatically\n",
    "class bank:\n",
    "    def __init__(self):\n",
    "        print(\"Please enter your pin first\")\n",
    "    def parent_calling(self):\n",
    "        print(\"parent calling\")     \n",
    "\n"
   ]
  },
  {
   "cell_type": "code",
   "execution_count": 137,
   "metadata": {},
   "outputs": [],
   "source": [
    "# class and objects\n",
    "class atm(bank):\n",
    "    def child_calling(self):\n",
    "        print(\"child calling\")     \n"
   ]
  },
  {
   "cell_type": "code",
   "execution_count": 31,
   "metadata": {},
   "outputs": [
    {
     "name": "stdout",
     "output_type": "stream",
     "text": [
      "Please enter your pin first\n"
     ]
    }
   ],
   "source": [
    "p1 = bank()"
   ]
  },
  {
   "cell_type": "code",
   "execution_count": 32,
   "metadata": {},
   "outputs": [
    {
     "name": "stdout",
     "output_type": "stream",
     "text": [
      "Please enter your pin first\n"
     ]
    }
   ],
   "source": [
    "p2 = bank()"
   ]
  },
  {
   "cell_type": "code",
   "execution_count": 33,
   "metadata": {},
   "outputs": [
    {
     "name": "stdout",
     "output_type": "stream",
     "text": [
      "Please enter the amt\n"
     ]
    }
   ],
   "source": [
    "p3 = atm()"
   ]
  },
  {
   "cell_type": "code",
   "execution_count": 38,
   "metadata": {},
   "outputs": [
    {
     "name": "stdout",
     "output_type": "stream",
     "text": [
      "parent calling\n"
     ]
    }
   ],
   "source": [
    "p3.parent_calling()"
   ]
  },
  {
   "cell_type": "code",
   "execution_count": 67,
   "metadata": {},
   "outputs": [],
   "source": [
    "class person(object):\n",
    "    def __init__(self, name = 'Anuj Tewatia', year = 2018):\n",
    "        self.n = name\n",
    "        self.y = year\n"
   ]
  },
  {
   "cell_type": "code",
   "execution_count": 78,
   "metadata": {},
   "outputs": [],
   "source": [
    "class student(person):\n",
    "    def __init__(self, name, year, degree):\n",
    "        person.__init__(self, name, year)"
   ]
  },
  {
   "cell_type": "code",
   "execution_count": 79,
   "metadata": {},
   "outputs": [],
   "source": [
    "n1 = Person()"
   ]
  },
  {
   "cell_type": "code",
   "execution_count": 80,
   "metadata": {},
   "outputs": [
    {
     "data": {
      "text/plain": [
       "'Anuj Tewatia'"
      ]
     },
     "execution_count": 80,
     "metadata": {},
     "output_type": "execute_result"
    }
   ],
   "source": [
    "n1.n"
   ]
  },
  {
   "cell_type": "code",
   "execution_count": 81,
   "metadata": {},
   "outputs": [
    {
     "data": {
      "text/plain": [
       "2018"
      ]
     },
     "execution_count": 81,
     "metadata": {},
     "output_type": "execute_result"
    }
   ],
   "source": [
    "n1.y"
   ]
  },
  {
   "cell_type": "code",
   "execution_count": 83,
   "metadata": {},
   "outputs": [],
   "source": [
    "class student(person):\n",
    "    def __init__(self, name, year, degree):\n",
    "        student.__init__(self, name, year)"
   ]
  },
  {
   "cell_type": "code",
   "execution_count": 84,
   "metadata": {},
   "outputs": [
    {
     "data": {
      "text/plain": [
       "'Anuj Tewatia'"
      ]
     },
     "execution_count": 84,
     "metadata": {},
     "output_type": "execute_result"
    }
   ],
   "source": [
    "n1.n"
   ]
  },
  {
   "cell_type": "code",
   "execution_count": 85,
   "metadata": {},
   "outputs": [],
   "source": [
    "class Parent:        \n",
    "    parentAttr = 100\n",
    "    def __init__(self):\n",
    "        print(\"Calling parent constructor\")\n",
    "    def parentMethod(self):\n",
    "        print('Calling parent method')\n",
    "    \n",
    "    def setAttr(self, attr):\n",
    "        Parent.parentAttr = attr\n",
    "    \n",
    "    def getAttr(self):\n",
    "        print(\"Parent attribute :\", Parent.parentAttr)\n"
   ]
  },
  {
   "cell_type": "code",
   "execution_count": 91,
   "metadata": {},
   "outputs": [],
   "source": [
    "\n",
    "class Child(Parent): \n",
    "    \n",
    "    def childMethod(self):\n",
    "        print('Calling child method')"
   ]
  },
  {
   "cell_type": "code",
   "execution_count": 92,
   "metadata": {},
   "outputs": [
    {
     "name": "stdout",
     "output_type": "stream",
     "text": [
      "Calling parent constructor\n"
     ]
    }
   ],
   "source": [
    "d1 = Child()"
   ]
  },
  {
   "cell_type": "code",
   "execution_count": 93,
   "metadata": {},
   "outputs": [
    {
     "name": "stdout",
     "output_type": "stream",
     "text": [
      "Calling parent constructor\n"
     ]
    }
   ],
   "source": [
    "d2 = Parent()"
   ]
  },
  {
   "cell_type": "code",
   "execution_count": 96,
   "metadata": {},
   "outputs": [],
   "source": [
    "class Child(Parent):\n",
    "    def __init__(self):\n",
    "        Parent.__init__(self)\n",
    "    def childMethod(self):\n",
    "        print('Calling child method')"
   ]
  },
  {
   "cell_type": "code",
   "execution_count": 97,
   "metadata": {},
   "outputs": [
    {
     "name": "stdout",
     "output_type": "stream",
     "text": [
      "Calling parent constructor\n"
     ]
    }
   ],
   "source": [
    "d1 = Parent()"
   ]
  },
  {
   "cell_type": "code",
   "execution_count": 98,
   "metadata": {},
   "outputs": [
    {
     "name": "stdout",
     "output_type": "stream",
     "text": [
      "Calling parent constructor\n"
     ]
    }
   ],
   "source": [
    "d2 = Child()"
   ]
  },
  {
   "cell_type": "code",
   "execution_count": 103,
   "metadata": {},
   "outputs": [],
   "source": [
    "class MyParentClass():\n",
    "    def __init__(self):\n",
    "        pass\n",
    "    def a_f(self, a,b):\n",
    "        return(a+b)\n",
    "\n",
    "class SubClass(MyParentClass):\n",
    "    def __init__(self):\n",
    "        super()"
   ]
  },
  {
   "cell_type": "code",
   "execution_count": 104,
   "metadata": {},
   "outputs": [],
   "source": [
    "mp = MyParentClass()"
   ]
  },
  {
   "cell_type": "code",
   "execution_count": 105,
   "metadata": {},
   "outputs": [
    {
     "data": {
      "text/plain": [
       "7"
      ]
     },
     "execution_count": 105,
     "metadata": {},
     "output_type": "execute_result"
    }
   ],
   "source": [
    "mp.a_f(2,5)"
   ]
  },
  {
   "cell_type": "code",
   "execution_count": 106,
   "metadata": {},
   "outputs": [],
   "source": [
    "mp1 = SubClass()"
   ]
  },
  {
   "cell_type": "code",
   "execution_count": 107,
   "metadata": {},
   "outputs": [
    {
     "data": {
      "text/plain": [
       "140"
      ]
     },
     "execution_count": 107,
     "metadata": {},
     "output_type": "execute_result"
    }
   ],
   "source": [
    "mp1.a_f(55,85)"
   ]
  },
  {
   "cell_type": "code",
   "execution_count": 108,
   "metadata": {},
   "outputs": [
    {
     "ename": "SyntaxError",
     "evalue": "Missing parentheses in call to 'print'. Did you mean print(print \"Calling parent constructor\")? (<ipython-input-108-ae5d5fba73ae>, line 4)",
     "output_type": "error",
     "traceback": [
      "\u001b[1;36m  File \u001b[1;32m\"<ipython-input-108-ae5d5fba73ae>\"\u001b[1;36m, line \u001b[1;32m4\u001b[0m\n\u001b[1;33m    print \"Calling parent constructor\"\u001b[0m\n\u001b[1;37m                                     ^\u001b[0m\n\u001b[1;31mSyntaxError\u001b[0m\u001b[1;31m:\u001b[0m Missing parentheses in call to 'print'. Did you mean print(print \"Calling parent constructor\")?\n"
     ]
    }
   ],
   "source": [
    "class bank:\n",
    "    # initializing the variables\n",
    "bal_amt = 100\n",
    "pin_entry = 123\n",
    "withdraw = 0\n",
    "rem_bal = bal_amt-withdraw\n",
    "\n",
    "    # defining constructor\n",
    "def __init__(self, person_name, person_age):\n",
    "self.name = person_name\n",
    "self.age = person_age\n",
    "\n",
    "        # defining class methods\n"
   ]
  },
  {
   "cell_type": "code",
   "execution_count": 130,
   "metadata": {},
   "outputs": [
    {
     "name": "stdout",
     "output_type": "stream",
     "text": [
      "Please enter your ATM Pin: 123\n",
      "Please select the amt you want to withdraw\n"
     ]
    }
   ],
   "source": [
    "class bank(object):\n",
    "    bal_amt = 100\n",
    "    pin_entry = 123\n",
    "    withdraw = 0\n",
    "    password = int(input('Please enter your ATM Pin: '))\n",
    "    if password == pin_entry:\n",
    "        print('Please select the amt you want to withdraw')\n",
    "    def __int__(self, pin, bal, withdraw):\n",
    "        self.pin = pin\n",
    "        self.bal = bal\n",
    "        self.withdraw = withdraw    "
   ]
  },
  {
   "cell_type": "code",
   "execution_count": 135,
   "metadata": {},
   "outputs": [
    {
     "name": "stdout",
     "output_type": "stream",
     "text": [
      "Please enter the amount of money you would like to withdraw: $ 55\n",
      "Foreward Balance  $  45.0\n"
     ]
    }
   ],
   "source": [
    "class atm(bank):\n",
    "    bal_amt = 100\n",
    "    pin_entry = 123\n",
    "    withdraw = 0\n",
    "    rem_bal = bal_amt-withdraw\n",
    "    withdraw=float(input(\"Please enter the amount of money you would like to withdraw: $ \"))\n",
    "    if withdraw > 0 and withdraw < bal_amt:\n",
    "        rem_bal=bal_amt-withdraw\n",
    "        print(\"Foreward Balance  $ \",rem_bal)\n",
    "    elif withdraw>bal_amt:\n",
    "        print('Insufficient fund, Your withdrawl amt exceeds the remaining bal')\n",
    "    else:\n",
    "        print(\"Transaction Cancelled\")\n",
    "    def __init__(self, pin, bal, withdraw, rem_bal):\n",
    "        self.rem_bal=bal_amt-withdraw\n",
    "        super().__init__(pin, bal, withdraw)"
   ]
  },
  {
   "cell_type": "code",
   "execution_count": 132,
   "metadata": {},
   "outputs": [],
   "source": [
    "b1 = bank()"
   ]
  },
  {
   "cell_type": "code",
   "execution_count": 148,
   "metadata": {},
   "outputs": [],
   "source": [
    "class teacher(object):\n",
    "    def __init__(self, studentName):\n",
    "        print(studentName, 'is a very intelligent student.') "
   ]
  },
  {
   "cell_type": "code",
   "execution_count": 150,
   "metadata": {},
   "outputs": [],
   "source": [
    "class student(teacher):\n",
    "    def __init__(self):\n",
    "        print('student got \"A\" Grade')\n",
    "        super().__init__('student')"
   ]
  },
  {
   "cell_type": "code",
   "execution_count": 151,
   "metadata": {},
   "outputs": [
    {
     "name": "stdout",
     "output_type": "stream",
     "text": [
      "student got \"A\" Grade\n",
      "student is a very intelligent student.\n"
     ]
    }
   ],
   "source": [
    "#In this example, called __init__ method of the teacher class (from the student class)\n",
    "std = student() "
   ]
  },
  {
   "cell_type": "code",
   "execution_count": 152,
   "metadata": {},
   "outputs": [],
   "source": [
    "class teacher(object):\n",
    "    def __init__(self, studentName):\n",
    "        print(studentName, 'is a very intelligent student.') "
   ]
  },
  {
   "cell_type": "code",
   "execution_count": 156,
   "metadata": {},
   "outputs": [],
   "source": [
    "class student(teacher):\n",
    "    def myStudent(self):\n",
    "        print('student got \"A\" Grade')\n",
    "        super().__init__('student')"
   ]
  },
  {
   "cell_type": "code",
   "execution_count": 286,
   "metadata": {},
   "outputs": [],
   "source": [
    "class A:\n",
    "    def __init__(self):\n",
    "        print('Initializing: class A')\n",
    "\n",
    "class B(A):\n",
    "    def __init__(self):\n",
    "        print('Initializing: class B')\n",
    "        super(B,self).__init__()\n"
   ]
  },
  {
   "cell_type": "code",
   "execution_count": 287,
   "metadata": {},
   "outputs": [
    {
     "name": "stdout",
     "output_type": "stream",
     "text": [
      "Initializing: class B\n",
      "Initializing: class A\n"
     ]
    }
   ],
   "source": [
    "new = B() # In this example, first we are calling the B clas, and then A"
   ]
  },
  {
   "cell_type": "code",
   "execution_count": 289,
   "metadata": {},
   "outputs": [
    {
     "name": "stdout",
     "output_type": "stream",
     "text": [
      "Initializing: class A\n"
     ]
    }
   ],
   "source": [
    "new1 = A() # In this example, first we are initializing the A class"
   ]
  },
  {
   "cell_type": "code",
   "execution_count": 290,
   "metadata": {},
   "outputs": [],
   "source": [
    "class A:\n",
    "    def __init__(self):\n",
    "        print('Initializing: class A')\n",
    "\n",
    "\n",
    "class B(A):\n",
    "    def __init__(self):\n",
    "        print('Initializing: class B')\n",
    "        B.__init__(self)"
   ]
  },
  {
   "cell_type": "code",
   "execution_count": 298,
   "metadata": {},
   "outputs": [
    {
     "name": "stdout",
     "output_type": "stream",
     "text": [
      "Initializing: class A\n"
     ]
    }
   ],
   "source": [
    "new2 = A()\n"
   ]
  },
  {
   "cell_type": "code",
   "execution_count": 318,
   "metadata": {},
   "outputs": [],
   "source": [
    "class rectangle(object):\n",
    "    def __init__(self, width, height):\n",
    "        self.width = width\n",
    "        self.height = height\n",
    "        self.area = width * height\n",
    "\n",
    "class square(Rectangle):\n",
    "    def __init__(self, length):\n",
    "        # super() executes fine now\n",
    "        super(square, self).__init__(length, length)"
   ]
  },
  {
   "cell_type": "code",
   "execution_count": 314,
   "metadata": {},
   "outputs": [
    {
     "name": "stdout",
     "output_type": "stream",
     "text": [
      "This is total area of square: 25\n",
      "This is a total height of square: 5\n",
      "This is a total width of square: 5\n"
     ]
    }
   ],
   "source": [
    "# inheriting the super class from rectactle for square class\n",
    "s = square(5)\n",
    "print('This is total area of square:', s.area)\n",
    "print('This is a total height of square:', s.height)\n",
    "print('This is a total width of square:', s.width)"
   ]
  },
  {
   "cell_type": "code",
   "execution_count": null,
   "metadata": {},
   "outputs": [],
   "source": []
  },
  {
   "cell_type": "code",
   "execution_count": 281,
   "metadata": {},
   "outputs": [],
   "source": [
    "class senior(object):\n",
    "    def __init__ (self, name, num):\n",
    "        self.name = name\n",
    "        self.num = num\n",
    "        \n",
    "class junior(senior):\n",
    "    def __init__(self, name, num):\n",
    "        super(). __init__ (name, num)      \n"
   ]
  },
  {
   "cell_type": "code",
   "execution_count": 282,
   "metadata": {},
   "outputs": [
    {
     "name": "stdout",
     "output_type": "stream",
     "text": [
      "My age is 5 and This result coming from senior class\n"
     ]
    }
   ],
   "source": [
    "r = junior(5,'This result coming from senior class')\n",
    "print('My age is {} and {}'.format(r.name, r.num))"
   ]
  }
 ],
 "metadata": {
  "kernelspec": {
   "display_name": "Python 3",
   "language": "python",
   "name": "python3"
  },
  "language_info": {
   "codemirror_mode": {
    "name": "ipython",
    "version": 3
   },
   "file_extension": ".py",
   "mimetype": "text/x-python",
   "name": "python",
   "nbconvert_exporter": "python",
   "pygments_lexer": "ipython3",
   "version": "3.6.4"
  }
 },
 "nbformat": 4,
 "nbformat_minor": 2
}
